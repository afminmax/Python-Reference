{
 "cells": [
  {
   "cell_type": "markdown",
   "metadata": {},
   "source": [
    "Imports and Setup <br>\n",
    "When using the bokeh.plotting interface, there are a few common imports:\n",
    "\n",
    "1. Use the figure function to create new plot objects to work with.<br>\n",
    "2. Call the functions output_file or output_notebook (possibly in combination) to tell Bokeh how to display or save output.<br>\n",
    "3. Execute show and save to display or save plots and layouts."
   ]
  },
  {
   "cell_type": "code",
   "execution_count": 51,
   "metadata": {},
   "outputs": [],
   "source": [
    "import numpy as np # we will use this later, so import it now\n",
    "\n",
    "from bokeh.io import output_notebook, show\n",
    "from bokeh.plotting import figure\n",
    "import math\n",
    "import pandas as pd"
   ]
  },
  {
   "cell_type": "markdown",
   "metadata": {},
   "source": [
    "In this case, we are in the Jupyter notebook, so we will call output_notebook() below. <BR>\n",
    "We only need to call this once, and all subsequent calls to show() will display inline in the notebook."
   ]
  },
  {
   "cell_type": "code",
   "execution_count": 2,
   "metadata": {},
   "outputs": [
    {
     "data": {
      "text/html": [
       "\n",
       "    <div class=\"bk-root\">\n",
       "        <a href=\"https://bokeh.org\" target=\"_blank\" class=\"bk-logo bk-logo-small bk-logo-notebook\"></a>\n",
       "        <span id=\"1001\">Loading BokehJS ...</span>\n",
       "    </div>"
      ]
     },
     "metadata": {},
     "output_type": "display_data"
    },
    {
     "data": {
      "application/javascript": [
       "\n",
       "(function(root) {\n",
       "  function now() {\n",
       "    return new Date();\n",
       "  }\n",
       "\n",
       "  var force = true;\n",
       "\n",
       "  if (typeof root._bokeh_onload_callbacks === \"undefined\" || force === true) {\n",
       "    root._bokeh_onload_callbacks = [];\n",
       "    root._bokeh_is_loading = undefined;\n",
       "  }\n",
       "\n",
       "  var JS_MIME_TYPE = 'application/javascript';\n",
       "  var HTML_MIME_TYPE = 'text/html';\n",
       "  var EXEC_MIME_TYPE = 'application/vnd.bokehjs_exec.v0+json';\n",
       "  var CLASS_NAME = 'output_bokeh rendered_html';\n",
       "\n",
       "  /**\n",
       "   * Render data to the DOM node\n",
       "   */\n",
       "  function render(props, node) {\n",
       "    var script = document.createElement(\"script\");\n",
       "    node.appendChild(script);\n",
       "  }\n",
       "\n",
       "  /**\n",
       "   * Handle when an output is cleared or removed\n",
       "   */\n",
       "  function handleClearOutput(event, handle) {\n",
       "    var cell = handle.cell;\n",
       "\n",
       "    var id = cell.output_area._bokeh_element_id;\n",
       "    var server_id = cell.output_area._bokeh_server_id;\n",
       "    // Clean up Bokeh references\n",
       "    if (id != null && id in Bokeh.index) {\n",
       "      Bokeh.index[id].model.document.clear();\n",
       "      delete Bokeh.index[id];\n",
       "    }\n",
       "\n",
       "    if (server_id !== undefined) {\n",
       "      // Clean up Bokeh references\n",
       "      var cmd = \"from bokeh.io.state import curstate; print(curstate().uuid_to_server['\" + server_id + \"'].get_sessions()[0].document.roots[0]._id)\";\n",
       "      cell.notebook.kernel.execute(cmd, {\n",
       "        iopub: {\n",
       "          output: function(msg) {\n",
       "            var id = msg.content.text.trim();\n",
       "            if (id in Bokeh.index) {\n",
       "              Bokeh.index[id].model.document.clear();\n",
       "              delete Bokeh.index[id];\n",
       "            }\n",
       "          }\n",
       "        }\n",
       "      });\n",
       "      // Destroy server and session\n",
       "      var cmd = \"import bokeh.io.notebook as ion; ion.destroy_server('\" + server_id + \"')\";\n",
       "      cell.notebook.kernel.execute(cmd);\n",
       "    }\n",
       "  }\n",
       "\n",
       "  /**\n",
       "   * Handle when a new output is added\n",
       "   */\n",
       "  function handleAddOutput(event, handle) {\n",
       "    var output_area = handle.output_area;\n",
       "    var output = handle.output;\n",
       "\n",
       "    // limit handleAddOutput to display_data with EXEC_MIME_TYPE content only\n",
       "    if ((output.output_type != \"display_data\") || (!output.data.hasOwnProperty(EXEC_MIME_TYPE))) {\n",
       "      return\n",
       "    }\n",
       "\n",
       "    var toinsert = output_area.element.find(\".\" + CLASS_NAME.split(' ')[0]);\n",
       "\n",
       "    if (output.metadata[EXEC_MIME_TYPE][\"id\"] !== undefined) {\n",
       "      toinsert[toinsert.length - 1].firstChild.textContent = output.data[JS_MIME_TYPE];\n",
       "      // store reference to embed id on output_area\n",
       "      output_area._bokeh_element_id = output.metadata[EXEC_MIME_TYPE][\"id\"];\n",
       "    }\n",
       "    if (output.metadata[EXEC_MIME_TYPE][\"server_id\"] !== undefined) {\n",
       "      var bk_div = document.createElement(\"div\");\n",
       "      bk_div.innerHTML = output.data[HTML_MIME_TYPE];\n",
       "      var script_attrs = bk_div.children[0].attributes;\n",
       "      for (var i = 0; i < script_attrs.length; i++) {\n",
       "        toinsert[toinsert.length - 1].firstChild.setAttribute(script_attrs[i].name, script_attrs[i].value);\n",
       "      }\n",
       "      // store reference to server id on output_area\n",
       "      output_area._bokeh_server_id = output.metadata[EXEC_MIME_TYPE][\"server_id\"];\n",
       "    }\n",
       "  }\n",
       "\n",
       "  function register_renderer(events, OutputArea) {\n",
       "\n",
       "    function append_mime(data, metadata, element) {\n",
       "      // create a DOM node to render to\n",
       "      var toinsert = this.create_output_subarea(\n",
       "        metadata,\n",
       "        CLASS_NAME,\n",
       "        EXEC_MIME_TYPE\n",
       "      );\n",
       "      this.keyboard_manager.register_events(toinsert);\n",
       "      // Render to node\n",
       "      var props = {data: data, metadata: metadata[EXEC_MIME_TYPE]};\n",
       "      render(props, toinsert[toinsert.length - 1]);\n",
       "      element.append(toinsert);\n",
       "      return toinsert\n",
       "    }\n",
       "\n",
       "    /* Handle when an output is cleared or removed */\n",
       "    events.on('clear_output.CodeCell', handleClearOutput);\n",
       "    events.on('delete.Cell', handleClearOutput);\n",
       "\n",
       "    /* Handle when a new output is added */\n",
       "    events.on('output_added.OutputArea', handleAddOutput);\n",
       "\n",
       "    /**\n",
       "     * Register the mime type and append_mime function with output_area\n",
       "     */\n",
       "    OutputArea.prototype.register_mime_type(EXEC_MIME_TYPE, append_mime, {\n",
       "      /* Is output safe? */\n",
       "      safe: true,\n",
       "      /* Index of renderer in `output_area.display_order` */\n",
       "      index: 0\n",
       "    });\n",
       "  }\n",
       "\n",
       "  // register the mime type if in Jupyter Notebook environment and previously unregistered\n",
       "  if (root.Jupyter !== undefined) {\n",
       "    var events = require('base/js/events');\n",
       "    var OutputArea = require('notebook/js/outputarea').OutputArea;\n",
       "\n",
       "    if (OutputArea.prototype.mime_types().indexOf(EXEC_MIME_TYPE) == -1) {\n",
       "      register_renderer(events, OutputArea);\n",
       "    }\n",
       "  }\n",
       "\n",
       "  \n",
       "  if (typeof (root._bokeh_timeout) === \"undefined\" || force === true) {\n",
       "    root._bokeh_timeout = Date.now() + 5000;\n",
       "    root._bokeh_failed_load = false;\n",
       "  }\n",
       "\n",
       "  var NB_LOAD_WARNING = {'data': {'text/html':\n",
       "     \"<div style='background-color: #fdd'>\\n\"+\n",
       "     \"<p>\\n\"+\n",
       "     \"BokehJS does not appear to have successfully loaded. If loading BokehJS from CDN, this \\n\"+\n",
       "     \"may be due to a slow or bad network connection. Possible fixes:\\n\"+\n",
       "     \"</p>\\n\"+\n",
       "     \"<ul>\\n\"+\n",
       "     \"<li>re-rerun `output_notebook()` to attempt to load from CDN again, or</li>\\n\"+\n",
       "     \"<li>use INLINE resources instead, as so:</li>\\n\"+\n",
       "     \"</ul>\\n\"+\n",
       "     \"<code>\\n\"+\n",
       "     \"from bokeh.resources import INLINE\\n\"+\n",
       "     \"output_notebook(resources=INLINE)\\n\"+\n",
       "     \"</code>\\n\"+\n",
       "     \"</div>\"}};\n",
       "\n",
       "  function display_loaded() {\n",
       "    var el = document.getElementById(\"1001\");\n",
       "    if (el != null) {\n",
       "      el.textContent = \"BokehJS is loading...\";\n",
       "    }\n",
       "    if (root.Bokeh !== undefined) {\n",
       "      if (el != null) {\n",
       "        el.textContent = \"BokehJS \" + root.Bokeh.version + \" successfully loaded.\";\n",
       "      }\n",
       "    } else if (Date.now() < root._bokeh_timeout) {\n",
       "      setTimeout(display_loaded, 100)\n",
       "    }\n",
       "  }\n",
       "\n",
       "\n",
       "  function run_callbacks() {\n",
       "    try {\n",
       "      root._bokeh_onload_callbacks.forEach(function(callback) {\n",
       "        if (callback != null)\n",
       "          callback();\n",
       "      });\n",
       "    } finally {\n",
       "      delete root._bokeh_onload_callbacks\n",
       "    }\n",
       "    console.debug(\"Bokeh: all callbacks have finished\");\n",
       "  }\n",
       "\n",
       "  function load_libs(css_urls, js_urls, callback) {\n",
       "    if (css_urls == null) css_urls = [];\n",
       "    if (js_urls == null) js_urls = [];\n",
       "\n",
       "    root._bokeh_onload_callbacks.push(callback);\n",
       "    if (root._bokeh_is_loading > 0) {\n",
       "      console.debug(\"Bokeh: BokehJS is being loaded, scheduling callback at\", now());\n",
       "      return null;\n",
       "    }\n",
       "    if (js_urls == null || js_urls.length === 0) {\n",
       "      run_callbacks();\n",
       "      return null;\n",
       "    }\n",
       "    console.debug(\"Bokeh: BokehJS not loaded, scheduling load and callback at\", now());\n",
       "    root._bokeh_is_loading = css_urls.length + js_urls.length;\n",
       "\n",
       "    function on_load() {\n",
       "      root._bokeh_is_loading--;\n",
       "      if (root._bokeh_is_loading === 0) {\n",
       "        console.debug(\"Bokeh: all BokehJS libraries/stylesheets loaded\");\n",
       "        run_callbacks()\n",
       "      }\n",
       "    }\n",
       "\n",
       "    function on_error() {\n",
       "      console.error(\"failed to load \" + url);\n",
       "    }\n",
       "\n",
       "    for (var i = 0; i < css_urls.length; i++) {\n",
       "      var url = css_urls[i];\n",
       "      const element = document.createElement(\"link\");\n",
       "      element.onload = on_load;\n",
       "      element.onerror = on_error;\n",
       "      element.rel = \"stylesheet\";\n",
       "      element.type = \"text/css\";\n",
       "      element.href = url;\n",
       "      console.debug(\"Bokeh: injecting link tag for BokehJS stylesheet: \", url);\n",
       "      document.body.appendChild(element);\n",
       "    }\n",
       "\n",
       "    for (var i = 0; i < js_urls.length; i++) {\n",
       "      var url = js_urls[i];\n",
       "      var element = document.createElement('script');\n",
       "      element.onload = on_load;\n",
       "      element.onerror = on_error;\n",
       "      element.async = false;\n",
       "      element.src = url;\n",
       "      console.debug(\"Bokeh: injecting script tag for BokehJS library: \", url);\n",
       "      document.head.appendChild(element);\n",
       "    }\n",
       "  };var element = document.getElementById(\"1001\");\n",
       "  if (element == null) {\n",
       "    console.error(\"Bokeh: ERROR: autoload.js configured with elementid '1001' but no matching script tag was found. \")\n",
       "    return false;\n",
       "  }\n",
       "\n",
       "  function inject_raw_css(css) {\n",
       "    const element = document.createElement(\"style\");\n",
       "    element.appendChild(document.createTextNode(css));\n",
       "    document.body.appendChild(element);\n",
       "  }\n",
       "\n",
       "  \n",
       "  var js_urls = [\"https://cdn.pydata.org/bokeh/release/bokeh-1.4.0.min.js\", \"https://cdn.pydata.org/bokeh/release/bokeh-widgets-1.4.0.min.js\", \"https://cdn.pydata.org/bokeh/release/bokeh-tables-1.4.0.min.js\", \"https://cdn.pydata.org/bokeh/release/bokeh-gl-1.4.0.min.js\"];\n",
       "  var css_urls = [];\n",
       "  \n",
       "\n",
       "  var inline_js = [\n",
       "    function(Bokeh) {\n",
       "      Bokeh.set_log_level(\"info\");\n",
       "    },\n",
       "    function(Bokeh) {\n",
       "    \n",
       "    \n",
       "    }\n",
       "  ];\n",
       "\n",
       "  function run_inline_js() {\n",
       "    \n",
       "    if (root.Bokeh !== undefined || force === true) {\n",
       "      \n",
       "    for (var i = 0; i < inline_js.length; i++) {\n",
       "      inline_js[i].call(root, root.Bokeh);\n",
       "    }\n",
       "    if (force === true) {\n",
       "        display_loaded();\n",
       "      }} else if (Date.now() < root._bokeh_timeout) {\n",
       "      setTimeout(run_inline_js, 100);\n",
       "    } else if (!root._bokeh_failed_load) {\n",
       "      console.log(\"Bokeh: BokehJS failed to load within specified timeout.\");\n",
       "      root._bokeh_failed_load = true;\n",
       "    } else if (force !== true) {\n",
       "      var cell = $(document.getElementById(\"1001\")).parents('.cell').data().cell;\n",
       "      cell.output_area.append_execute_result(NB_LOAD_WARNING)\n",
       "    }\n",
       "\n",
       "  }\n",
       "\n",
       "  if (root._bokeh_is_loading === 0) {\n",
       "    console.debug(\"Bokeh: BokehJS loaded, going straight to plotting\");\n",
       "    run_inline_js();\n",
       "  } else {\n",
       "    load_libs(css_urls, js_urls, function() {\n",
       "      console.debug(\"Bokeh: BokehJS plotting callback run at\", now());\n",
       "      run_inline_js();\n",
       "    });\n",
       "  }\n",
       "}(window));"
      ],
      "application/vnd.bokehjs_load.v0+json": "\n(function(root) {\n  function now() {\n    return new Date();\n  }\n\n  var force = true;\n\n  if (typeof root._bokeh_onload_callbacks === \"undefined\" || force === true) {\n    root._bokeh_onload_callbacks = [];\n    root._bokeh_is_loading = undefined;\n  }\n\n  \n\n  \n  if (typeof (root._bokeh_timeout) === \"undefined\" || force === true) {\n    root._bokeh_timeout = Date.now() + 5000;\n    root._bokeh_failed_load = false;\n  }\n\n  var NB_LOAD_WARNING = {'data': {'text/html':\n     \"<div style='background-color: #fdd'>\\n\"+\n     \"<p>\\n\"+\n     \"BokehJS does not appear to have successfully loaded. If loading BokehJS from CDN, this \\n\"+\n     \"may be due to a slow or bad network connection. Possible fixes:\\n\"+\n     \"</p>\\n\"+\n     \"<ul>\\n\"+\n     \"<li>re-rerun `output_notebook()` to attempt to load from CDN again, or</li>\\n\"+\n     \"<li>use INLINE resources instead, as so:</li>\\n\"+\n     \"</ul>\\n\"+\n     \"<code>\\n\"+\n     \"from bokeh.resources import INLINE\\n\"+\n     \"output_notebook(resources=INLINE)\\n\"+\n     \"</code>\\n\"+\n     \"</div>\"}};\n\n  function display_loaded() {\n    var el = document.getElementById(\"1001\");\n    if (el != null) {\n      el.textContent = \"BokehJS is loading...\";\n    }\n    if (root.Bokeh !== undefined) {\n      if (el != null) {\n        el.textContent = \"BokehJS \" + root.Bokeh.version + \" successfully loaded.\";\n      }\n    } else if (Date.now() < root._bokeh_timeout) {\n      setTimeout(display_loaded, 100)\n    }\n  }\n\n\n  function run_callbacks() {\n    try {\n      root._bokeh_onload_callbacks.forEach(function(callback) {\n        if (callback != null)\n          callback();\n      });\n    } finally {\n      delete root._bokeh_onload_callbacks\n    }\n    console.debug(\"Bokeh: all callbacks have finished\");\n  }\n\n  function load_libs(css_urls, js_urls, callback) {\n    if (css_urls == null) css_urls = [];\n    if (js_urls == null) js_urls = [];\n\n    root._bokeh_onload_callbacks.push(callback);\n    if (root._bokeh_is_loading > 0) {\n      console.debug(\"Bokeh: BokehJS is being loaded, scheduling callback at\", now());\n      return null;\n    }\n    if (js_urls == null || js_urls.length === 0) {\n      run_callbacks();\n      return null;\n    }\n    console.debug(\"Bokeh: BokehJS not loaded, scheduling load and callback at\", now());\n    root._bokeh_is_loading = css_urls.length + js_urls.length;\n\n    function on_load() {\n      root._bokeh_is_loading--;\n      if (root._bokeh_is_loading === 0) {\n        console.debug(\"Bokeh: all BokehJS libraries/stylesheets loaded\");\n        run_callbacks()\n      }\n    }\n\n    function on_error() {\n      console.error(\"failed to load \" + url);\n    }\n\n    for (var i = 0; i < css_urls.length; i++) {\n      var url = css_urls[i];\n      const element = document.createElement(\"link\");\n      element.onload = on_load;\n      element.onerror = on_error;\n      element.rel = \"stylesheet\";\n      element.type = \"text/css\";\n      element.href = url;\n      console.debug(\"Bokeh: injecting link tag for BokehJS stylesheet: \", url);\n      document.body.appendChild(element);\n    }\n\n    for (var i = 0; i < js_urls.length; i++) {\n      var url = js_urls[i];\n      var element = document.createElement('script');\n      element.onload = on_load;\n      element.onerror = on_error;\n      element.async = false;\n      element.src = url;\n      console.debug(\"Bokeh: injecting script tag for BokehJS library: \", url);\n      document.head.appendChild(element);\n    }\n  };var element = document.getElementById(\"1001\");\n  if (element == null) {\n    console.error(\"Bokeh: ERROR: autoload.js configured with elementid '1001' but no matching script tag was found. \")\n    return false;\n  }\n\n  function inject_raw_css(css) {\n    const element = document.createElement(\"style\");\n    element.appendChild(document.createTextNode(css));\n    document.body.appendChild(element);\n  }\n\n  \n  var js_urls = [\"https://cdn.pydata.org/bokeh/release/bokeh-1.4.0.min.js\", \"https://cdn.pydata.org/bokeh/release/bokeh-widgets-1.4.0.min.js\", \"https://cdn.pydata.org/bokeh/release/bokeh-tables-1.4.0.min.js\", \"https://cdn.pydata.org/bokeh/release/bokeh-gl-1.4.0.min.js\"];\n  var css_urls = [];\n  \n\n  var inline_js = [\n    function(Bokeh) {\n      Bokeh.set_log_level(\"info\");\n    },\n    function(Bokeh) {\n    \n    \n    }\n  ];\n\n  function run_inline_js() {\n    \n    if (root.Bokeh !== undefined || force === true) {\n      \n    for (var i = 0; i < inline_js.length; i++) {\n      inline_js[i].call(root, root.Bokeh);\n    }\n    if (force === true) {\n        display_loaded();\n      }} else if (Date.now() < root._bokeh_timeout) {\n      setTimeout(run_inline_js, 100);\n    } else if (!root._bokeh_failed_load) {\n      console.log(\"Bokeh: BokehJS failed to load within specified timeout.\");\n      root._bokeh_failed_load = true;\n    } else if (force !== true) {\n      var cell = $(document.getElementById(\"1001\")).parents('.cell').data().cell;\n      cell.output_area.append_execute_result(NB_LOAD_WARNING)\n    }\n\n  }\n\n  if (root._bokeh_is_loading === 0) {\n    console.debug(\"Bokeh: BokehJS loaded, going straight to plotting\");\n    run_inline_js();\n  } else {\n    load_libs(css_urls, js_urls, function() {\n      console.debug(\"Bokeh: BokehJS plotting callback run at\", now());\n      run_inline_js();\n    });\n  }\n}(window));"
     },
     "metadata": {},
     "output_type": "display_data"
    }
   ],
   "source": [
    "output_notebook()"
   ]
  },
  {
   "cell_type": "code",
   "execution_count": 4,
   "metadata": {},
   "outputs": [],
   "source": [
    "saigondf = pd.read_csv('saigon-rain.csv', header=0)"
   ]
  },
  {
   "cell_type": "code",
   "execution_count": 5,
   "metadata": {},
   "outputs": [
    {
     "data": {
      "text/html": [
       "<div>\n",
       "<style scoped>\n",
       "    .dataframe tbody tr th:only-of-type {\n",
       "        vertical-align: middle;\n",
       "    }\n",
       "\n",
       "    .dataframe tbody tr th {\n",
       "        vertical-align: top;\n",
       "    }\n",
       "\n",
       "    .dataframe thead th {\n",
       "        text-align: right;\n",
       "    }\n",
       "</style>\n",
       "<table border=\"1\" class=\"dataframe\">\n",
       "  <thead>\n",
       "    <tr style=\"text-align: right;\">\n",
       "      <th></th>\n",
       "      <th>month</th>\n",
       "      <th>rainfall(mm)</th>\n",
       "    </tr>\n",
       "  </thead>\n",
       "  <tbody>\n",
       "    <tr>\n",
       "      <td>0</td>\n",
       "      <td>January</td>\n",
       "      <td>15</td>\n",
       "    </tr>\n",
       "    <tr>\n",
       "      <td>1</td>\n",
       "      <td>February</td>\n",
       "      <td>5</td>\n",
       "    </tr>\n",
       "    <tr>\n",
       "      <td>2</td>\n",
       "      <td>March</td>\n",
       "      <td>10</td>\n",
       "    </tr>\n",
       "    <tr>\n",
       "      <td>3</td>\n",
       "      <td>April</td>\n",
       "      <td>50</td>\n",
       "    </tr>\n",
       "    <tr>\n",
       "      <td>4</td>\n",
       "      <td>May</td>\n",
       "      <td>220</td>\n",
       "    </tr>\n",
       "    <tr>\n",
       "      <td>5</td>\n",
       "      <td>June</td>\n",
       "      <td>310</td>\n",
       "    </tr>\n",
       "    <tr>\n",
       "      <td>6</td>\n",
       "      <td>July</td>\n",
       "      <td>295</td>\n",
       "    </tr>\n",
       "    <tr>\n",
       "      <td>7</td>\n",
       "      <td>August</td>\n",
       "      <td>270</td>\n",
       "    </tr>\n",
       "    <tr>\n",
       "      <td>8</td>\n",
       "      <td>September</td>\n",
       "      <td>325</td>\n",
       "    </tr>\n",
       "    <tr>\n",
       "      <td>9</td>\n",
       "      <td>October</td>\n",
       "      <td>265</td>\n",
       "    </tr>\n",
       "    <tr>\n",
       "      <td>10</td>\n",
       "      <td>November</td>\n",
       "      <td>115</td>\n",
       "    </tr>\n",
       "    <tr>\n",
       "      <td>11</td>\n",
       "      <td>December</td>\n",
       "      <td>50</td>\n",
       "    </tr>\n",
       "  </tbody>\n",
       "</table>\n",
       "</div>"
      ],
      "text/plain": [
       "        month  rainfall(mm)\n",
       "0     January            15\n",
       "1    February             5\n",
       "2       March            10\n",
       "3       April            50\n",
       "4         May           220\n",
       "5        June           310\n",
       "6        July           295\n",
       "7      August           270\n",
       "8   September           325\n",
       "9     October           265\n",
       "10   November           115\n",
       "11   December            50"
      ]
     },
     "execution_count": 5,
     "metadata": {},
     "output_type": "execute_result"
    }
   ],
   "source": [
    "saigondf"
   ]
  },
  {
   "cell_type": "code",
   "execution_count": 22,
   "metadata": {},
   "outputs": [
    {
     "data": {
      "text/plain": [
       "0       January\n",
       "1      February\n",
       "2         March\n",
       "3         April\n",
       "4           May\n",
       "5          June\n",
       "6          July\n",
       "7        August\n",
       "8     September\n",
       "9       October\n",
       "10     November\n",
       "11     December\n",
       "Name: month, dtype: object"
      ]
     },
     "execution_count": 22,
     "metadata": {},
     "output_type": "execute_result"
    }
   ],
   "source": [
    "month = saigondf.month\n",
    "month"
   ]
  },
  {
   "cell_type": "code",
   "execution_count": 23,
   "metadata": {},
   "outputs": [
    {
     "data": {
      "text/plain": [
       "0      15\n",
       "1       5\n",
       "2      10\n",
       "3      50\n",
       "4     220\n",
       "5     310\n",
       "6     295\n",
       "7     270\n",
       "8     325\n",
       "9     265\n",
       "10    115\n",
       "11     50\n",
       "Name: rainfall(mm), dtype: int64"
      ]
     },
     "execution_count": 23,
     "metadata": {},
     "output_type": "execute_result"
    }
   ],
   "source": [
    "rainfall = saigondf['rainfall(mm)']\n",
    "rainfall"
   ]
  },
  {
   "cell_type": "code",
   "execution_count": 37,
   "metadata": {},
   "outputs": [
    {
     "data": {
      "text/html": [
       "\n",
       "\n",
       "\n",
       "\n",
       "\n",
       "\n",
       "  <div class=\"bk-root\" id=\"8bbe2c5c-5bcf-450c-90bd-f392be98e5c6\" data-root-id=\"3257\"></div>\n"
      ]
     },
     "metadata": {},
     "output_type": "display_data"
    },
    {
     "data": {
      "application/javascript": [
       "(function(root) {\n",
       "  function embed_document(root) {\n",
       "    \n",
       "  var docs_json = {\"f8657b2e-5133-4b0b-8f5d-5177ba59612d\":{\"roots\":{\"references\":[{\"attributes\":{\"below\":[{\"id\":\"3268\",\"type\":\"CategoricalAxis\"}],\"center\":[{\"id\":\"3271\",\"type\":\"Grid\"},{\"id\":\"3276\",\"type\":\"Grid\"}],\"left\":[{\"id\":\"3272\",\"type\":\"LinearAxis\"}],\"plot_height\":400,\"plot_width\":800,\"renderers\":[{\"id\":\"3293\",\"type\":\"GlyphRenderer\"}],\"title\":{\"id\":\"3258\",\"type\":\"Title\"},\"toolbar\":{\"id\":\"3283\",\"type\":\"Toolbar\"},\"x_range\":{\"id\":\"3260\",\"type\":\"FactorRange\"},\"x_scale\":{\"id\":\"3264\",\"type\":\"CategoricalScale\"},\"y_range\":{\"id\":\"3262\",\"type\":\"DataRange1d\"},\"y_scale\":{\"id\":\"3266\",\"type\":\"LinearScale\"}},\"id\":\"3257\",\"subtype\":\"Figure\",\"type\":\"Plot\"},{\"attributes\":{\"ticker\":{\"id\":\"3269\",\"type\":\"CategoricalTicker\"}},\"id\":\"3271\",\"type\":\"Grid\"},{\"attributes\":{\"dimension\":1,\"ticker\":{\"id\":\"3273\",\"type\":\"BasicTicker\"}},\"id\":\"3276\",\"type\":\"Grid\"},{\"attributes\":{\"overlay\":{\"id\":\"3399\",\"type\":\"BoxAnnotation\"}},\"id\":\"3279\",\"type\":\"BoxZoomTool\"},{\"attributes\":{\"text\":\"Saigon Rain\"},\"id\":\"3258\",\"type\":\"Title\"},{\"attributes\":{},\"id\":\"3282\",\"type\":\"HelpTool\"},{\"attributes\":{\"fill_alpha\":{\"value\":0.1},\"fill_color\":{\"value\":\"#1f77b4\"},\"line_alpha\":{\"value\":0.1},\"line_color\":{\"value\":\"#1f77b4\"},\"top\":{\"field\":\"top\"},\"width\":{\"value\":0.75},\"x\":{\"field\":\"x\"}},\"id\":\"3292\",\"type\":\"VBar\"},{\"attributes\":{},\"id\":\"3273\",\"type\":\"BasicTicker\"},{\"attributes\":{},\"id\":\"3278\",\"type\":\"WheelZoomTool\"},{\"attributes\":{\"callback\":null,\"data\":{\"top\":[15,5,10,50,220,310,295,270,325,265,115,50],\"x\":[\"January\",\"February\",\"March\",\"April\",\"May\",\"June\",\"July\",\"August\",\"September\",\"October\",\"November\",\"December\"]},\"selected\":{\"id\":\"3400\",\"type\":\"Selection\"},\"selection_policy\":{\"id\":\"3401\",\"type\":\"UnionRenderers\"}},\"id\":\"3290\",\"type\":\"ColumnDataSource\"},{\"attributes\":{\"source\":{\"id\":\"3290\",\"type\":\"ColumnDataSource\"}},\"id\":\"3294\",\"type\":\"CDSView\"},{\"attributes\":{\"fill_color\":{\"value\":\"#1f77b4\"},\"line_color\":{\"value\":\"#1f77b4\"},\"top\":{\"field\":\"top\"},\"width\":{\"value\":0.75},\"x\":{\"field\":\"x\"}},\"id\":\"3291\",\"type\":\"VBar\"},{\"attributes\":{},\"id\":\"3395\",\"type\":\"BasicTickFormatter\"},{\"attributes\":{},\"id\":\"3401\",\"type\":\"UnionRenderers\"},{\"attributes\":{\"data_source\":{\"id\":\"3290\",\"type\":\"ColumnDataSource\"},\"glyph\":{\"id\":\"3291\",\"type\":\"VBar\"},\"hover_glyph\":null,\"muted_glyph\":null,\"nonselection_glyph\":{\"id\":\"3292\",\"type\":\"VBar\"},\"selection_glyph\":null,\"view\":{\"id\":\"3294\",\"type\":\"CDSView\"}},\"id\":\"3293\",\"type\":\"GlyphRenderer\"},{\"attributes\":{\"callback\":null},\"id\":\"3262\",\"type\":\"DataRange1d\"},{\"attributes\":{},\"id\":\"3397\",\"type\":\"CategoricalTickFormatter\"},{\"attributes\":{\"callback\":null,\"factors\":[\"January\",\"February\",\"March\",\"April\",\"May\",\"June\",\"July\",\"August\",\"September\",\"October\",\"November\",\"December\"]},\"id\":\"3260\",\"type\":\"FactorRange\"},{\"attributes\":{\"active_drag\":\"auto\",\"active_inspect\":\"auto\",\"active_multi\":null,\"active_scroll\":\"auto\",\"active_tap\":\"auto\",\"tools\":[{\"id\":\"3277\",\"type\":\"PanTool\"},{\"id\":\"3278\",\"type\":\"WheelZoomTool\"},{\"id\":\"3279\",\"type\":\"BoxZoomTool\"},{\"id\":\"3280\",\"type\":\"SaveTool\"},{\"id\":\"3281\",\"type\":\"ResetTool\"},{\"id\":\"3282\",\"type\":\"HelpTool\"}]},\"id\":\"3283\",\"type\":\"Toolbar\"},{\"attributes\":{},\"id\":\"3400\",\"type\":\"Selection\"},{\"attributes\":{},\"id\":\"3269\",\"type\":\"CategoricalTicker\"},{\"attributes\":{},\"id\":\"3280\",\"type\":\"SaveTool\"},{\"attributes\":{},\"id\":\"3281\",\"type\":\"ResetTool\"},{\"attributes\":{\"bottom_units\":\"screen\",\"fill_alpha\":{\"value\":0.5},\"fill_color\":{\"value\":\"lightgrey\"},\"left_units\":\"screen\",\"level\":\"overlay\",\"line_alpha\":{\"value\":1.0},\"line_color\":{\"value\":\"black\"},\"line_dash\":[4,4],\"line_width\":{\"value\":2},\"render_mode\":\"css\",\"right_units\":\"screen\",\"top_units\":\"screen\"},\"id\":\"3399\",\"type\":\"BoxAnnotation\"},{\"attributes\":{},\"id\":\"3264\",\"type\":\"CategoricalScale\"},{\"attributes\":{\"axis_label\":\"Rainfall(mm)\",\"formatter\":{\"id\":\"3395\",\"type\":\"BasicTickFormatter\"},\"ticker\":{\"id\":\"3273\",\"type\":\"BasicTicker\"}},\"id\":\"3272\",\"type\":\"LinearAxis\"},{\"attributes\":{\"axis_label\":\"Month\",\"formatter\":{\"id\":\"3397\",\"type\":\"CategoricalTickFormatter\"},\"ticker\":{\"id\":\"3269\",\"type\":\"CategoricalTicker\"}},\"id\":\"3268\",\"type\":\"CategoricalAxis\"},{\"attributes\":{},\"id\":\"3266\",\"type\":\"LinearScale\"},{\"attributes\":{},\"id\":\"3277\",\"type\":\"PanTool\"}],\"root_ids\":[\"3257\"]},\"title\":\"Bokeh Application\",\"version\":\"1.4.0\"}};\n",
       "  var render_items = [{\"docid\":\"f8657b2e-5133-4b0b-8f5d-5177ba59612d\",\"roots\":{\"3257\":\"8bbe2c5c-5bcf-450c-90bd-f392be98e5c6\"}}];\n",
       "  root.Bokeh.embed.embed_items_notebook(docs_json, render_items);\n",
       "\n",
       "  }\n",
       "  if (root.Bokeh !== undefined) {\n",
       "    embed_document(root);\n",
       "  } else {\n",
       "    var attempts = 0;\n",
       "    var timer = setInterval(function(root) {\n",
       "      if (root.Bokeh !== undefined) {\n",
       "        clearInterval(timer);\n",
       "        embed_document(root);\n",
       "      } else {\n",
       "        attempts++;\n",
       "        if (attempts > 100) {\n",
       "          clearInterval(timer);\n",
       "          console.log(\"Bokeh: ERROR: Unable to run BokehJS code because BokehJS library is missing\");\n",
       "        }\n",
       "      }\n",
       "    }, 10, root)\n",
       "  }\n",
       "})(window);"
      ],
      "application/vnd.bokehjs_exec.v0+json": ""
     },
     "metadata": {
      "application/vnd.bokehjs_exec.v0+json": {
       "id": "3257"
      }
     },
     "output_type": "display_data"
    }
   ],
   "source": [
    "# create a new plot with default tools, using figure\n",
    "p = figure(x_range = month, plot_width=800, \n",
    "           plot_height=400, \n",
    "           title='Saigon Rain',\n",
    "           x_axis_label = 'Month',\n",
    "           y_axis_label = 'Rainfall(mm)')\n",
    "\n",
    "# add a bar plot to the base figure\n",
    "p.vbar(x = month, top = rainfall, bottom = 0, width=0.75) # the y values are \"top\"\n",
    "show(p)"
   ]
  },
  {
   "cell_type": "markdown",
   "metadata": {},
   "source": [
    "### Pie Chart"
   ]
  },
  {
   "cell_type": "code",
   "execution_count": 59,
   "metadata": {},
   "outputs": [],
   "source": [
    "# you need the following libraries for pie charts\n",
    "from bokeh.transform import cumsum\n",
    "from bokeh.models import LabelSet, ColumnDataSource\n",
    "from bokeh.palettes import Category20c"
   ]
  },
  {
   "cell_type": "code",
   "execution_count": 38,
   "metadata": {},
   "outputs": [
    {
     "data": {
      "text/html": [
       "<div>\n",
       "<style scoped>\n",
       "    .dataframe tbody tr th:only-of-type {\n",
       "        vertical-align: middle;\n",
       "    }\n",
       "\n",
       "    .dataframe tbody tr th {\n",
       "        vertical-align: top;\n",
       "    }\n",
       "\n",
       "    .dataframe thead th {\n",
       "        text-align: right;\n",
       "    }\n",
       "</style>\n",
       "<table border=\"1\" class=\"dataframe\">\n",
       "  <thead>\n",
       "    <tr style=\"text-align: right;\">\n",
       "      <th></th>\n",
       "      <th>continent</th>\n",
       "      <th>size(km^2)</th>\n",
       "      <th>size%</th>\n",
       "      <th>population</th>\n",
       "      <th>population%</th>\n",
       "    </tr>\n",
       "  </thead>\n",
       "  <tbody>\n",
       "    <tr>\n",
       "      <td>0</td>\n",
       "      <td>Africa</td>\n",
       "      <td>30370000</td>\n",
       "      <td>20.21</td>\n",
       "      <td>1287920000</td>\n",
       "      <td>16.87</td>\n",
       "    </tr>\n",
       "    <tr>\n",
       "      <td>1</td>\n",
       "      <td>Antarctica</td>\n",
       "      <td>14000000</td>\n",
       "      <td>9.32</td>\n",
       "      <td>4490</td>\n",
       "      <td>0.00</td>\n",
       "    </tr>\n",
       "    <tr>\n",
       "      <td>2</td>\n",
       "      <td>Asia</td>\n",
       "      <td>44579000</td>\n",
       "      <td>29.66</td>\n",
       "      <td>4545133000</td>\n",
       "      <td>59.55</td>\n",
       "    </tr>\n",
       "    <tr>\n",
       "      <td>3</td>\n",
       "      <td>Europe</td>\n",
       "      <td>10180000</td>\n",
       "      <td>6.77</td>\n",
       "      <td>742648000</td>\n",
       "      <td>9.73</td>\n",
       "    </tr>\n",
       "    <tr>\n",
       "      <td>4</td>\n",
       "      <td>North America</td>\n",
       "      <td>24709000</td>\n",
       "      <td>16.44</td>\n",
       "      <td>587615000</td>\n",
       "      <td>7.70</td>\n",
       "    </tr>\n",
       "    <tr>\n",
       "      <td>5</td>\n",
       "      <td>Australia</td>\n",
       "      <td>8600000</td>\n",
       "      <td>5.72</td>\n",
       "      <td>41261000</td>\n",
       "      <td>0.54</td>\n",
       "    </tr>\n",
       "    <tr>\n",
       "      <td>6</td>\n",
       "      <td>South America</td>\n",
       "      <td>17840000</td>\n",
       "      <td>11.87</td>\n",
       "      <td>428240000</td>\n",
       "      <td>5.61</td>\n",
       "    </tr>\n",
       "  </tbody>\n",
       "</table>\n",
       "</div>"
      ],
      "text/plain": [
       "       continent  size(km^2)  size%  population  population%\n",
       "0         Africa    30370000  20.21  1287920000        16.87\n",
       "1     Antarctica    14000000   9.32        4490         0.00\n",
       "2           Asia    44579000  29.66  4545133000        59.55\n",
       "3         Europe    10180000   6.77   742648000         9.73\n",
       "4  North America    24709000  16.44   587615000         7.70\n",
       "5      Australia     8600000   5.72    41261000         0.54\n",
       "6  South America    17840000  11.87   428240000         5.61"
      ]
     },
     "execution_count": 38,
     "metadata": {},
     "output_type": "execute_result"
    }
   ],
   "source": [
    "continentsdf = pd.read_csv('continents.csv', header=0)\n",
    "continentsdf"
   ]
  },
  {
   "cell_type": "code",
   "execution_count": 40,
   "metadata": {},
   "outputs": [
    {
     "data": {
      "text/plain": [
       "0           Africa\n",
       "1       Antarctica\n",
       "2             Asia\n",
       "3           Europe\n",
       "4    North America\n",
       "5        Australia\n",
       "6    South America\n",
       "Name: continent, dtype: object"
      ]
     },
     "execution_count": 40,
     "metadata": {},
     "output_type": "execute_result"
    }
   ],
   "source": [
    "continent = continentsdf['continent']\n",
    "continent"
   ]
  },
  {
   "cell_type": "code",
   "execution_count": 42,
   "metadata": {},
   "outputs": [
    {
     "data": {
      "text/plain": [
       "0    30370000\n",
       "1    14000000\n",
       "2    44579000\n",
       "3    10180000\n",
       "4    24709000\n",
       "5     8600000\n",
       "6    17840000\n",
       "Name: size(km^2), dtype: int64"
      ]
     },
     "execution_count": 42,
     "metadata": {},
     "output_type": "execute_result"
    }
   ],
   "source": [
    "size = continentsdf['size(km^2)']\n",
    "size"
   ]
  },
  {
   "cell_type": "code",
   "execution_count": 44,
   "metadata": {},
   "outputs": [
    {
     "data": {
      "text/plain": [
       "0    20.21\n",
       "1     9.32\n",
       "2    29.66\n",
       "3     6.77\n",
       "4    16.44\n",
       "5     5.72\n",
       "6    11.87\n",
       "Name: size%, dtype: float64"
      ]
     },
     "execution_count": 44,
     "metadata": {},
     "output_type": "execute_result"
    }
   ],
   "source": [
    "continent_size = continentsdf['size%']\n",
    "continent_size"
   ]
  },
  {
   "cell_type": "code",
   "execution_count": 50,
   "metadata": {},
   "outputs": [],
   "source": [
    "# create a new plot with default tools, using figure\n",
    "pw = figure(plot_width=800, \n",
    "            plot_height=800, \n",
    "            title='Continent Size by Percent')"
   ]
  },
  {
   "cell_type": "code",
   "execution_count": 58,
   "metadata": {},
   "outputs": [
    {
     "data": {
      "text/plain": [
       "0    1.269959\n",
       "1    0.585651\n",
       "2    1.863779\n",
       "3    0.425414\n",
       "4    1.033059\n",
       "5    0.359434\n",
       "6    0.745889\n",
       "Name: size%, dtype: float64"
      ]
     },
     "execution_count": 58,
     "metadata": {},
     "output_type": "execute_result"
    }
   ],
   "source": [
    "angle = continentsdf['size%']/continentsdf['size%'].sum() * 2 * math.pi\n",
    "angle"
   ]
  },
  {
   "cell_type": "code",
   "execution_count": null,
   "metadata": {},
   "outputs": [],
   "source": []
  },
  {
   "cell_type": "code",
   "execution_count": 63,
   "metadata": {},
   "outputs": [
    {
     "name": "stderr",
     "output_type": "stream",
     "text": [
      "ERROR:bokeh.core.validation.check:E-1001 (BAD_COLUMN_NAME): Glyph refers to nonexistent column name. This could either be due to a misspelling or typo, or due to an expected column being missing. : key \"fill_color\" value \"color\" [renderer: GlyphRenderer(id='3795', ...)]\n",
      "ERROR:bokeh.core.validation.check:E-1001 (BAD_COLUMN_NAME): Glyph refers to nonexistent column name. This could either be due to a misspelling or typo, or due to an expected column being missing. : key \"fill_color\" value \"color\" [renderer: GlyphRenderer(id='3982', ...)]\n",
      "ERROR:bokeh.core.validation.check:E-1001 (BAD_COLUMN_NAME): Glyph refers to nonexistent column name. This could either be due to a misspelling or typo, or due to an expected column being missing. : key \"fill_color\" value \"color\" [renderer: GlyphRenderer(id='4308', ...)]\n"
     ]
    },
    {
     "data": {
      "text/html": [
       "\n",
       "\n",
       "\n",
       "\n",
       "\n",
       "\n",
       "  <div class=\"bk-root\" id=\"585a4804-8669-49aa-bc3d-c46fc06422de\" data-root-id=\"3753\"></div>\n"
      ]
     },
     "metadata": {},
     "output_type": "display_data"
    },
    {
     "data": {
      "application/javascript": [
       "(function(root) {\n",
       "  function embed_document(root) {\n",
       "    \n",
       "  var docs_json = {\"bafe40b8-1dd9-4dd1-aac0-6984521ae34b\":{\"roots\":{\"references\":[{\"attributes\":{\"below\":[{\"id\":\"3764\",\"type\":\"LinearAxis\"}],\"center\":[{\"id\":\"3768\",\"type\":\"Grid\"},{\"id\":\"3773\",\"type\":\"Grid\"},{\"id\":\"3803\",\"type\":\"Legend\"}],\"left\":[{\"id\":\"3769\",\"type\":\"LinearAxis\"}],\"plot_height\":800,\"plot_width\":800,\"renderers\":[{\"id\":\"3795\",\"type\":\"GlyphRenderer\"},{\"id\":\"3982\",\"type\":\"GlyphRenderer\"},{\"id\":\"4308\",\"type\":\"GlyphRenderer\"}],\"title\":{\"id\":\"3754\",\"type\":\"Title\"},\"toolbar\":{\"id\":\"3780\",\"type\":\"Toolbar\"},\"x_range\":{\"id\":\"3756\",\"type\":\"DataRange1d\"},\"x_scale\":{\"id\":\"3760\",\"type\":\"LinearScale\"},\"y_range\":{\"id\":\"3758\",\"type\":\"DataRange1d\"},\"y_scale\":{\"id\":\"3762\",\"type\":\"LinearScale\"}},\"id\":\"3753\",\"subtype\":\"Figure\",\"type\":\"Plot\"},{\"attributes\":{\"callback\":null},\"id\":\"3758\",\"type\":\"DataRange1d\"},{\"attributes\":{\"formatter\":{\"id\":\"3800\",\"type\":\"BasicTickFormatter\"},\"ticker\":{\"id\":\"3765\",\"type\":\"BasicTicker\"}},\"id\":\"3764\",\"type\":\"LinearAxis\"},{\"attributes\":{},\"id\":\"4116\",\"type\":\"UnionRenderers\"},{\"attributes\":{\"active_drag\":\"auto\",\"active_inspect\":\"auto\",\"active_multi\":null,\"active_scroll\":\"auto\",\"active_tap\":\"auto\",\"tools\":[{\"id\":\"3774\",\"type\":\"PanTool\"},{\"id\":\"3775\",\"type\":\"WheelZoomTool\"},{\"id\":\"3776\",\"type\":\"BoxZoomTool\"},{\"id\":\"3777\",\"type\":\"SaveTool\"},{\"id\":\"3778\",\"type\":\"ResetTool\"},{\"id\":\"3779\",\"type\":\"HelpTool\"}]},\"id\":\"3780\",\"type\":\"Toolbar\"},{\"attributes\":{},\"id\":\"3777\",\"type\":\"SaveTool\"},{\"attributes\":{},\"id\":\"3779\",\"type\":\"HelpTool\"},{\"attributes\":{},\"id\":\"3770\",\"type\":\"BasicTicker\"},{\"attributes\":{},\"id\":\"3765\",\"type\":\"BasicTicker\"},{\"attributes\":{\"label\":{\"value\":\"Size\"},\"renderers\":[{\"id\":\"3795\",\"type\":\"GlyphRenderer\"},{\"id\":\"3982\",\"type\":\"GlyphRenderer\"},{\"id\":\"4308\",\"type\":\"GlyphRenderer\"}]},\"id\":\"3804\",\"type\":\"LegendItem\"},{\"attributes\":{\"field\":\"angle\"},\"id\":\"4303\",\"type\":\"CumSum\"},{\"attributes\":{},\"id\":\"3762\",\"type\":\"LinearScale\"},{\"attributes\":{\"data_source\":{\"id\":\"3978\",\"type\":\"ColumnDataSource\"},\"glyph\":{\"id\":\"3980\",\"type\":\"Wedge\"},\"hover_glyph\":null,\"muted_glyph\":null,\"nonselection_glyph\":{\"id\":\"3981\",\"type\":\"Wedge\"},\"selection_glyph\":null,\"view\":{\"id\":\"3983\",\"type\":\"CDSView\"}},\"id\":\"3982\",\"type\":\"GlyphRenderer\"},{\"attributes\":{\"formatter\":{\"id\":\"3798\",\"type\":\"BasicTickFormatter\"},\"ticker\":{\"id\":\"3770\",\"type\":\"BasicTicker\"}},\"id\":\"3769\",\"type\":\"LinearAxis\"},{\"attributes\":{\"data_source\":{\"id\":\"4304\",\"type\":\"ColumnDataSource\"},\"glyph\":{\"id\":\"4306\",\"type\":\"Wedge\"},\"hover_glyph\":null,\"muted_glyph\":null,\"nonselection_glyph\":{\"id\":\"4307\",\"type\":\"Wedge\"},\"selection_glyph\":null,\"view\":{\"id\":\"4309\",\"type\":\"CDSView\"}},\"id\":\"4308\",\"type\":\"GlyphRenderer\"},{\"attributes\":{\"overlay\":{\"id\":\"3802\",\"type\":\"BoxAnnotation\"}},\"id\":\"3776\",\"type\":\"BoxZoomTool\"},{\"attributes\":{\"source\":{\"id\":\"4304\",\"type\":\"ColumnDataSource\"}},\"id\":\"4309\",\"type\":\"CDSView\"},{\"attributes\":{},\"id\":\"4115\",\"type\":\"Selection\"},{\"attributes\":{},\"id\":\"3778\",\"type\":\"ResetTool\"},{\"attributes\":{},\"id\":\"3774\",\"type\":\"PanTool\"},{\"attributes\":{},\"id\":\"3926\",\"type\":\"Selection\"},{\"attributes\":{},\"id\":\"4445\",\"type\":\"Selection\"},{\"attributes\":{\"field\":\"angle\"},\"id\":\"3977\",\"type\":\"CumSum\"},{\"attributes\":{},\"id\":\"3760\",\"type\":\"LinearScale\"},{\"attributes\":{\"callback\":null},\"id\":\"3756\",\"type\":\"DataRange1d\"},{\"attributes\":{\"end_angle\":{\"expr\":{\"id\":\"3977\",\"type\":\"CumSum\"},\"units\":\"rad\"},\"fill_alpha\":{\"value\":0.1},\"fill_color\":{\"value\":\"#1f77b4\"},\"line_alpha\":{\"value\":0.1},\"line_color\":{\"value\":\"#1f77b4\"},\"radius\":{\"units\":\"data\",\"value\":0.4},\"start_angle\":{\"expr\":{\"id\":\"3976\",\"type\":\"CumSum\"},\"units\":\"rad\"},\"x\":{\"value\":0},\"y\":{\"value\":1}},\"id\":\"3981\",\"type\":\"Wedge\"},{\"attributes\":{},\"id\":\"3800\",\"type\":\"BasicTickFormatter\"},{\"attributes\":{\"end_angle\":{\"expr\":{\"id\":\"3790\",\"type\":\"CumSum\"},\"units\":\"rad\"},\"fill_color\":{\"field\":\"color\"},\"line_color\":{\"value\":\"white\"},\"radius\":{\"units\":\"data\",\"value\":0.4},\"start_angle\":{\"expr\":{\"id\":\"3789\",\"type\":\"CumSum\"},\"units\":\"rad\"},\"x\":{\"value\":0},\"y\":{\"value\":1}},\"id\":\"3793\",\"type\":\"Wedge\"},{\"attributes\":{\"callback\":null,\"data\":{\"continent\":[\"Africa\",\"Antarctica\",\"Asia\",\"Europe\",\"North America\",\"Australia\",\"South America\"],\"index\":[0,1,2,3,4,5,6],\"population\":[1287920000,4490,4545133000,742648000,587615000,41261000,428240000],\"population%\":{\"__ndarray__\":\"H4XrUbjeMEAAAAAAAAAAAGZmZmZmxk1A9ihcj8J1I0DNzMzMzMweQEjhehSuR+E/cT0K16NwFkA=\",\"dtype\":\"float64\",\"shape\":[7]},\"size%\":{\"__ndarray__\":\"9ihcj8I1NECkcD0K16MiQClcj8L1qD1AFK5H4XoUG0BxPQrXo3AwQOF6FK5H4RZAPQrXo3C9J0A=\",\"dtype\":\"float64\",\"shape\":[7]},\"size(km^2)\":[30370000,14000000,44579000,10180000,24709000,8600000,17840000]},\"selected\":{\"id\":\"4115\",\"type\":\"Selection\"},\"selection_policy\":{\"id\":\"4116\",\"type\":\"UnionRenderers\"}},\"id\":\"3978\",\"type\":\"ColumnDataSource\"},{\"attributes\":{\"dimension\":1,\"ticker\":{\"id\":\"3770\",\"type\":\"BasicTicker\"}},\"id\":\"3773\",\"type\":\"Grid\"},{\"attributes\":{\"bottom_units\":\"screen\",\"fill_alpha\":{\"value\":0.5},\"fill_color\":{\"value\":\"lightgrey\"},\"left_units\":\"screen\",\"level\":\"overlay\",\"line_alpha\":{\"value\":1.0},\"line_color\":{\"value\":\"black\"},\"line_dash\":[4,4],\"line_width\":{\"value\":2},\"render_mode\":\"css\",\"right_units\":\"screen\",\"top_units\":\"screen\"},\"id\":\"3802\",\"type\":\"BoxAnnotation\"},{\"attributes\":{},\"id\":\"3798\",\"type\":\"BasicTickFormatter\"},{\"attributes\":{\"field\":\"angle\"},\"id\":\"3789\",\"type\":\"CumSum\"},{\"attributes\":{},\"id\":\"4446\",\"type\":\"UnionRenderers\"},{\"attributes\":{\"field\":\"angle\"},\"id\":\"3790\",\"type\":\"CumSum\"},{\"attributes\":{\"items\":[{\"id\":\"3804\",\"type\":\"LegendItem\"}]},\"id\":\"3803\",\"type\":\"Legend\"},{\"attributes\":{\"source\":{\"id\":\"3791\",\"type\":\"ColumnDataSource\"}},\"id\":\"3796\",\"type\":\"CDSView\"},{\"attributes\":{\"callback\":null,\"data\":{\"continent\":[\"Africa\",\"Antarctica\",\"Asia\",\"Europe\",\"North America\",\"Australia\",\"South America\"],\"index\":[0,1,2,3,4,5,6],\"population\":[1287920000,4490,4545133000,742648000,587615000,41261000,428240000],\"population%\":{\"__ndarray__\":\"H4XrUbjeMEAAAAAAAAAAAGZmZmZmxk1A9ihcj8J1I0DNzMzMzMweQEjhehSuR+E/cT0K16NwFkA=\",\"dtype\":\"float64\",\"shape\":[7]},\"size%\":{\"__ndarray__\":\"9ihcj8I1NECkcD0K16MiQClcj8L1qD1AFK5H4XoUG0BxPQrXo3AwQOF6FK5H4RZAPQrXo3C9J0A=\",\"dtype\":\"float64\",\"shape\":[7]},\"size(km^2)\":[30370000,14000000,44579000,10180000,24709000,8600000,17840000]},\"selected\":{\"id\":\"4445\",\"type\":\"Selection\"},\"selection_policy\":{\"id\":\"4446\",\"type\":\"UnionRenderers\"}},\"id\":\"4304\",\"type\":\"ColumnDataSource\"},{\"attributes\":{\"data_source\":{\"id\":\"3791\",\"type\":\"ColumnDataSource\"},\"glyph\":{\"id\":\"3793\",\"type\":\"Wedge\"},\"hover_glyph\":null,\"muted_glyph\":null,\"nonselection_glyph\":{\"id\":\"3794\",\"type\":\"Wedge\"},\"selection_glyph\":null,\"view\":{\"id\":\"3796\",\"type\":\"CDSView\"}},\"id\":\"3795\",\"type\":\"GlyphRenderer\"},{\"attributes\":{\"callback\":null,\"data\":{\"continent\":[\"Africa\",\"Antarctica\",\"Asia\",\"Europe\",\"North America\",\"Australia\",\"South America\"],\"index\":[0,1,2,3,4,5,6],\"population\":[1287920000,4490,4545133000,742648000,587615000,41261000,428240000],\"population%\":{\"__ndarray__\":\"H4XrUbjeMEAAAAAAAAAAAGZmZmZmxk1A9ihcj8J1I0DNzMzMzMweQEjhehSuR+E/cT0K16NwFkA=\",\"dtype\":\"float64\",\"shape\":[7]},\"size%\":{\"__ndarray__\":\"9ihcj8I1NECkcD0K16MiQClcj8L1qD1AFK5H4XoUG0BxPQrXo3AwQOF6FK5H4RZAPQrXo3C9J0A=\",\"dtype\":\"float64\",\"shape\":[7]},\"size(km^2)\":[30370000,14000000,44579000,10180000,24709000,8600000,17840000]},\"selected\":{\"id\":\"3926\",\"type\":\"Selection\"},\"selection_policy\":{\"id\":\"3927\",\"type\":\"UnionRenderers\"}},\"id\":\"3791\",\"type\":\"ColumnDataSource\"},{\"attributes\":{},\"id\":\"3927\",\"type\":\"UnionRenderers\"},{\"attributes\":{\"field\":\"angle\"},\"id\":\"4302\",\"type\":\"CumSum\"},{\"attributes\":{\"end_angle\":{\"expr\":{\"id\":\"3977\",\"type\":\"CumSum\"},\"units\":\"rad\"},\"fill_color\":{\"field\":\"color\"},\"line_color\":{\"value\":\"white\"},\"radius\":{\"units\":\"data\",\"value\":0.4},\"start_angle\":{\"expr\":{\"id\":\"3976\",\"type\":\"CumSum\"},\"units\":\"rad\"},\"x\":{\"value\":0},\"y\":{\"value\":1}},\"id\":\"3980\",\"type\":\"Wedge\"},{\"attributes\":{\"ticker\":{\"id\":\"3765\",\"type\":\"BasicTicker\"}},\"id\":\"3768\",\"type\":\"Grid\"},{\"attributes\":{\"source\":{\"id\":\"3978\",\"type\":\"ColumnDataSource\"}},\"id\":\"3983\",\"type\":\"CDSView\"},{\"attributes\":{\"end_angle\":{\"expr\":{\"id\":\"4303\",\"type\":\"CumSum\"},\"units\":\"rad\"},\"fill_color\":{\"field\":\"color\"},\"line_color\":{\"value\":\"white\"},\"radius\":{\"units\":\"data\",\"value\":0.4},\"start_angle\":{\"expr\":{\"id\":\"4302\",\"type\":\"CumSum\"},\"units\":\"rad\"},\"x\":{\"value\":0},\"y\":{\"value\":1}},\"id\":\"4306\",\"type\":\"Wedge\"},{\"attributes\":{\"end_angle\":{\"expr\":{\"id\":\"4303\",\"type\":\"CumSum\"},\"units\":\"rad\"},\"fill_alpha\":{\"value\":0.1},\"fill_color\":{\"value\":\"#1f77b4\"},\"line_alpha\":{\"value\":0.1},\"line_color\":{\"value\":\"#1f77b4\"},\"radius\":{\"units\":\"data\",\"value\":0.4},\"start_angle\":{\"expr\":{\"id\":\"4302\",\"type\":\"CumSum\"},\"units\":\"rad\"},\"x\":{\"value\":0},\"y\":{\"value\":1}},\"id\":\"4307\",\"type\":\"Wedge\"},{\"attributes\":{\"text\":\"Continent Size by Percent\"},\"id\":\"3754\",\"type\":\"Title\"},{\"attributes\":{},\"id\":\"3775\",\"type\":\"WheelZoomTool\"},{\"attributes\":{\"field\":\"angle\"},\"id\":\"3976\",\"type\":\"CumSum\"},{\"attributes\":{\"end_angle\":{\"expr\":{\"id\":\"3790\",\"type\":\"CumSum\"},\"units\":\"rad\"},\"fill_alpha\":{\"value\":0.1},\"fill_color\":{\"value\":\"#1f77b4\"},\"line_alpha\":{\"value\":0.1},\"line_color\":{\"value\":\"#1f77b4\"},\"radius\":{\"units\":\"data\",\"value\":0.4},\"start_angle\":{\"expr\":{\"id\":\"3789\",\"type\":\"CumSum\"},\"units\":\"rad\"},\"x\":{\"value\":0},\"y\":{\"value\":1}},\"id\":\"3794\",\"type\":\"Wedge\"}],\"root_ids\":[\"3753\"]},\"title\":\"Bokeh Application\",\"version\":\"1.4.0\"}};\n",
       "  var render_items = [{\"docid\":\"bafe40b8-1dd9-4dd1-aac0-6984521ae34b\",\"roots\":{\"3753\":\"585a4804-8669-49aa-bc3d-c46fc06422de\"}}];\n",
       "  root.Bokeh.embed.embed_items_notebook(docs_json, render_items);\n",
       "\n",
       "  }\n",
       "  if (root.Bokeh !== undefined) {\n",
       "    embed_document(root);\n",
       "  } else {\n",
       "    var attempts = 0;\n",
       "    var timer = setInterval(function(root) {\n",
       "      if (root.Bokeh !== undefined) {\n",
       "        clearInterval(timer);\n",
       "        embed_document(root);\n",
       "      } else {\n",
       "        attempts++;\n",
       "        if (attempts > 100) {\n",
       "          clearInterval(timer);\n",
       "          console.log(\"Bokeh: ERROR: Unable to run BokehJS code because BokehJS library is missing\");\n",
       "        }\n",
       "      }\n",
       "    }, 10, root)\n",
       "  }\n",
       "})(window);"
      ],
      "application/vnd.bokehjs_exec.v0+json": ""
     },
     "metadata": {
      "application/vnd.bokehjs_exec.v0+json": {
       "id": "3753"
      }
     },
     "output_type": "display_data"
    }
   ],
   "source": [
    "# add a wedge plot to the base figure\n",
    "pw.wedge(x=0, y=1, radius=0.4,\n",
    "        start_angle=cumsum('angle'), end_angle=cumsum('angle'),\n",
    "        line_color='white', fill_color='color', legend_label='Size', source=continentsdf)\n",
    "\n",
    "show(pw)"
   ]
  },
  {
   "cell_type": "code",
   "execution_count": 64,
   "metadata": {},
   "outputs": [
    {
     "name": "stderr",
     "output_type": "stream",
     "text": [
      "BokehDeprecationWarning: 'legend' keyword is deprecated, use explicit 'legend_label', 'legend_field', or 'legend_group' keywords instead\n"
     ]
    },
    {
     "data": {
      "text/html": [
       "\n",
       "\n",
       "\n",
       "\n",
       "\n",
       "\n",
       "  <div class=\"bk-root\" id=\"a7c9ca29-1749-4bd8-993c-7c5817a69965\" data-root-id=\"4646\"></div>\n"
      ]
     },
     "metadata": {},
     "output_type": "display_data"
    },
    {
     "data": {
      "application/javascript": [
       "(function(root) {\n",
       "  function embed_document(root) {\n",
       "    \n",
       "  var docs_json = {\"c8492e4c-e8d4-4ec4-9100-5984e4f5ba88\":{\"roots\":{\"references\":[{\"attributes\":{\"below\":[{\"id\":\"4657\",\"type\":\"LinearAxis\"}],\"center\":[{\"id\":\"4661\",\"type\":\"Grid\"},{\"id\":\"4666\",\"type\":\"Grid\"},{\"id\":\"4683\",\"type\":\"Legend\"},{\"id\":\"4687\",\"type\":\"LabelSet\"}],\"left\":[{\"id\":\"4662\",\"type\":\"LinearAxis\"}],\"plot_height\":350,\"renderers\":[{\"id\":\"4676\",\"type\":\"GlyphRenderer\"}],\"title\":{\"id\":\"4647\",\"type\":\"Title\"},\"toolbar\":{\"id\":\"4668\",\"type\":\"Toolbar\"},\"toolbar_location\":null,\"x_range\":{\"id\":\"4649\",\"type\":\"Range1d\"},\"x_scale\":{\"id\":\"4653\",\"type\":\"LinearScale\"},\"y_range\":{\"id\":\"4651\",\"type\":\"DataRange1d\"},\"y_scale\":{\"id\":\"4655\",\"type\":\"LinearScale\"}},\"id\":\"4646\",\"subtype\":\"Figure\",\"type\":\"Plot\"},{\"attributes\":{\"end_angle\":{\"expr\":{\"id\":\"4671\",\"type\":\"CumSum\"},\"units\":\"rad\"},\"fill_alpha\":{\"value\":0.1},\"fill_color\":{\"value\":\"#1f77b4\"},\"line_alpha\":{\"value\":0.1},\"line_color\":{\"value\":\"#1f77b4\"},\"radius\":{\"units\":\"data\",\"value\":0.4},\"start_angle\":{\"expr\":{\"id\":\"4670\",\"type\":\"CumSum\"},\"units\":\"rad\"},\"x\":{\"value\":0},\"y\":{\"value\":1}},\"id\":\"4675\",\"type\":\"Wedge\"},{\"attributes\":{},\"id\":\"4655\",\"type\":\"LinearScale\"},{\"attributes\":{},\"id\":\"4653\",\"type\":\"LinearScale\"},{\"attributes\":{\"callback\":null,\"data\":{\"angle\":{\"__ndarray__\":\"eQLEMwAC9z+3V8R09kHrP+QcmNXVFeo/hZ74ygF34j8vDs2tzcrZP1vToA6tntg/iJh0b4xy1z93BYbhOoTUPzmtw/IJwtI/0I8to/kr0j/Qjy2j+SvSP/xUAQTZ/9A/\",\"dtype\":\"float64\",\"shape\":[12]},\"color\":[\"#3182bd\",\"#6baed6\",\"#9ecae1\",\"#c6dbef\",\"#e6550d\",\"#fd8d3c\",\"#fdae6b\",\"#fdd0a2\",\"#31a354\",\"#74c476\",\"#a1d99b\",\"#c7e9c0\"],\"country\":[\"United States\",\"United Kingdom\",\"Japan\",\"China\",\"Germany\",\"India\",\"Italy\",\"Australia\",\"Brazil\",\"France\",\"Taiwan\",\"Spain\"],\"index\":[0,1,2,3,4,5,6,7,8,9,10,11],\"value\":[157,93,89,63,44,42,40,35,32,31,31,29]},\"selected\":{\"id\":\"4821\",\"type\":\"Selection\"},\"selection_policy\":{\"id\":\"4822\",\"type\":\"UnionRenderers\"}},\"id\":\"4672\",\"type\":\"ColumnDataSource\"},{\"attributes\":{\"angle\":{\"expr\":{\"id\":\"4686\",\"type\":\"CumSum\"},\"units\":\"rad\"},\"level\":\"glyph\",\"source\":{\"id\":\"4685\",\"type\":\"ColumnDataSource\"},\"text\":{\"field\":\"value\"},\"x\":{\"value\":0},\"y\":{\"value\":1}},\"id\":\"4687\",\"type\":\"LabelSet\"},{\"attributes\":{\"label\":{\"field\":\"country\"},\"renderers\":[{\"id\":\"4676\",\"type\":\"GlyphRenderer\"}]},\"id\":\"4684\",\"type\":\"LegendItem\"},{\"attributes\":{\"grid_line_color\":null,\"ticker\":{\"id\":\"4658\",\"type\":\"BasicTicker\"}},\"id\":\"4661\",\"type\":\"Grid\"},{\"attributes\":{},\"id\":\"4821\",\"type\":\"Selection\"},{\"attributes\":{\"axis_label\":null,\"formatter\":{\"id\":\"4681\",\"type\":\"BasicTickFormatter\"},\"ticker\":{\"id\":\"4658\",\"type\":\"BasicTicker\"},\"visible\":false},\"id\":\"4657\",\"type\":\"LinearAxis\"},{\"attributes\":{},\"id\":\"4823\",\"type\":\"Selection\"},{\"attributes\":{\"callback\":null,\"start\":-0.5},\"id\":\"4649\",\"type\":\"Range1d\"},{\"attributes\":{\"axis_label\":null,\"formatter\":{\"id\":\"4679\",\"type\":\"BasicTickFormatter\"},\"ticker\":{\"id\":\"4663\",\"type\":\"BasicTicker\"},\"visible\":false},\"id\":\"4662\",\"type\":\"LinearAxis\"},{\"attributes\":{\"callback\":null},\"id\":\"4651\",\"type\":\"DataRange1d\"},{\"attributes\":{\"items\":[{\"id\":\"4684\",\"type\":\"LegendItem\"}]},\"id\":\"4683\",\"type\":\"Legend\"},{\"attributes\":{},\"id\":\"4663\",\"type\":\"BasicTicker\"},{\"attributes\":{},\"id\":\"4824\",\"type\":\"UnionRenderers\"},{\"attributes\":{},\"id\":\"4679\",\"type\":\"BasicTickFormatter\"},{\"attributes\":{},\"id\":\"4658\",\"type\":\"BasicTicker\"},{\"attributes\":{\"field\":\"angle\",\"include_zero\":true},\"id\":\"4670\",\"type\":\"CumSum\"},{\"attributes\":{\"callback\":null,\"data\":{\"angle\":{\"__ndarray__\":\"eQLEMwAC9z+3V8R09kHrP+QcmNXVFeo/hZ74ygF34j8vDs2tzcrZP1vToA6tntg/iJh0b4xy1z93BYbhOoTUPzmtw/IJwtI/0I8to/kr0j/Qjy2j+SvSP/xUAQTZ/9A/\",\"dtype\":\"float64\",\"shape\":[12]},\"color\":[\"#3182bd\",\"#6baed6\",\"#9ecae1\",\"#c6dbef\",\"#e6550d\",\"#fd8d3c\",\"#fdae6b\",\"#fdd0a2\",\"#31a354\",\"#74c476\",\"#a1d99b\",\"#c7e9c0\"],\"country\":[\"United States\",\"United Kingdom\",\"Japan\",\"China\",\"Germany\",\"India\",\"Italy\",\"Australia\",\"Brazil\",\"France\",\"Taiwan\",\"Spain\"],\"index\":[0,1,2,3,4,5,6,7,8,9,10,11],\"value\":[\"                                157\",\"                                 93\",\"                                 89\",\"                                 63\",\"                                 44\",\"                                 42\",\"                                 40\",\"                                 35\",\"                                 32\",\"                                 31\",\"                                 31\",\"                                 29\"]},\"selected\":{\"id\":\"4823\",\"type\":\"Selection\"},\"selection_policy\":{\"id\":\"4824\",\"type\":\"UnionRenderers\"}},\"id\":\"4685\",\"type\":\"ColumnDataSource\"},{\"attributes\":{\"text\":\"Pie Chart\"},\"id\":\"4647\",\"type\":\"Title\"},{\"attributes\":{},\"id\":\"4822\",\"type\":\"UnionRenderers\"},{\"attributes\":{\"active_drag\":\"auto\",\"active_inspect\":\"auto\",\"active_multi\":null,\"active_scroll\":\"auto\",\"active_tap\":\"auto\",\"tools\":[{\"id\":\"4667\",\"type\":\"HoverTool\"}]},\"id\":\"4668\",\"type\":\"Toolbar\"},{\"attributes\":{},\"id\":\"4681\",\"type\":\"BasicTickFormatter\"},{\"attributes\":{\"callback\":null,\"tooltips\":\"@country: @value\"},\"id\":\"4667\",\"type\":\"HoverTool\"},{\"attributes\":{\"dimension\":1,\"grid_line_color\":null,\"ticker\":{\"id\":\"4663\",\"type\":\"BasicTicker\"}},\"id\":\"4666\",\"type\":\"Grid\"},{\"attributes\":{\"source\":{\"id\":\"4672\",\"type\":\"ColumnDataSource\"}},\"id\":\"4677\",\"type\":\"CDSView\"},{\"attributes\":{\"field\":\"angle\"},\"id\":\"4671\",\"type\":\"CumSum\"},{\"attributes\":{\"field\":\"angle\",\"include_zero\":true},\"id\":\"4686\",\"type\":\"CumSum\"},{\"attributes\":{\"end_angle\":{\"expr\":{\"id\":\"4671\",\"type\":\"CumSum\"},\"units\":\"rad\"},\"fill_color\":{\"field\":\"color\"},\"line_color\":{\"value\":\"white\"},\"radius\":{\"units\":\"data\",\"value\":0.4},\"start_angle\":{\"expr\":{\"id\":\"4670\",\"type\":\"CumSum\"},\"units\":\"rad\"},\"x\":{\"value\":0},\"y\":{\"value\":1}},\"id\":\"4674\",\"type\":\"Wedge\"},{\"attributes\":{\"data_source\":{\"id\":\"4672\",\"type\":\"ColumnDataSource\"},\"glyph\":{\"id\":\"4674\",\"type\":\"Wedge\"},\"hover_glyph\":null,\"muted_glyph\":null,\"nonselection_glyph\":{\"id\":\"4675\",\"type\":\"Wedge\"},\"selection_glyph\":null,\"view\":{\"id\":\"4677\",\"type\":\"CDSView\"}},\"id\":\"4676\",\"type\":\"GlyphRenderer\"}],\"root_ids\":[\"4646\"]},\"title\":\"Bokeh Application\",\"version\":\"1.4.0\"}};\n",
       "  var render_items = [{\"docid\":\"c8492e4c-e8d4-4ec4-9100-5984e4f5ba88\",\"roots\":{\"4646\":\"a7c9ca29-1749-4bd8-993c-7c5817a69965\"}}];\n",
       "  root.Bokeh.embed.embed_items_notebook(docs_json, render_items);\n",
       "\n",
       "  }\n",
       "  if (root.Bokeh !== undefined) {\n",
       "    embed_document(root);\n",
       "  } else {\n",
       "    var attempts = 0;\n",
       "    var timer = setInterval(function(root) {\n",
       "      if (root.Bokeh !== undefined) {\n",
       "        clearInterval(timer);\n",
       "        embed_document(root);\n",
       "      } else {\n",
       "        attempts++;\n",
       "        if (attempts > 100) {\n",
       "          clearInterval(timer);\n",
       "          console.log(\"Bokeh: ERROR: Unable to run BokehJS code because BokehJS library is missing\");\n",
       "        }\n",
       "      }\n",
       "    }, 10, root)\n",
       "  }\n",
       "})(window);"
      ],
      "application/vnd.bokehjs_exec.v0+json": ""
     },
     "metadata": {
      "application/vnd.bokehjs_exec.v0+json": {
       "id": "4646"
      }
     },
     "output_type": "display_data"
    }
   ],
   "source": [
    "from math import pi\n",
    "import pandas as pd\n",
    "from bokeh.io import output_file, show\n",
    "from bokeh.palettes import Category20c\n",
    "from bokeh.plotting import figure\n",
    "from bokeh.transform import cumsum\n",
    "from bokeh.models import LabelSet, ColumnDataSource\n",
    "\n",
    "output_file(\"pie.html\")\n",
    "\n",
    "x = {\n",
    "    'United States': 157,\n",
    "    'United Kingdom': 93,\n",
    "    'Japan': 89,\n",
    "    'China': 63,\n",
    "    'Germany': 44,\n",
    "    'India': 42,\n",
    "    'Italy': 40,\n",
    "    'Australia': 35,\n",
    "    'Brazil': 32,\n",
    "    'France': 31,\n",
    "    'Taiwan': 31,\n",
    "    'Spain': 29\n",
    "}\n",
    "\n",
    "data = pd.Series(x).reset_index(name='value').rename(columns={'index':'country'})\n",
    "data['angle'] = data['value']/data['value'].sum() * 2*pi\n",
    "data['color'] = Category20c[len(x)]\n",
    "\n",
    "p = figure(plot_height=350, title=\"Pie Chart\", toolbar_location=None,\n",
    "           tools=\"hover\", tooltips=\"@country: @value\", x_range=(-0.5, 1.0))\n",
    "\n",
    "p.wedge(x=0, y=1, radius=0.4,\n",
    "        start_angle=cumsum('angle', include_zero=True), end_angle=cumsum('angle'),\n",
    "        line_color=\"white\", fill_color='color', legend='country', source=data)\n",
    "\n",
    "data[\"value\"] = data['value'].astype(str)\n",
    "data[\"value\"] = data[\"value\"].str.pad(35, side = \"left\")\n",
    "source = ColumnDataSource(data)\n",
    "\n",
    "labels = LabelSet(x=0, y=1, text='value', level='glyph',\n",
    "        angle=cumsum('angle', include_zero=True), source=source, render_mode='canvas')\n",
    "\n",
    "p.add_layout(labels)\n",
    "\n",
    "p.axis.axis_label=None\n",
    "p.axis.visible=False\n",
    "p.grid.grid_line_color = None\n",
    "\n",
    "show(p)\n"
   ]
  },
  {
   "cell_type": "code",
   "execution_count": null,
   "metadata": {},
   "outputs": [],
   "source": []
  }
 ],
 "metadata": {
  "kernelspec": {
   "display_name": "Python 3",
   "language": "python",
   "name": "python3"
  },
  "language_info": {
   "codemirror_mode": {
    "name": "ipython",
    "version": 3
   },
   "file_extension": ".py",
   "mimetype": "text/x-python",
   "name": "python",
   "nbconvert_exporter": "python",
   "pygments_lexer": "ipython3",
   "version": "3.7.4"
  }
 },
 "nbformat": 4,
 "nbformat_minor": 4
}
