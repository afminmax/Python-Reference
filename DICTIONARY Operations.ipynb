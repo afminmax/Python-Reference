{
 "cells": [
  {
   "cell_type": "code",
   "execution_count": 2,
   "metadata": {},
   "outputs": [
    {
     "data": {
      "application/javascript": [
       "IPython.notebook.set_autosave_interval(0)"
      ]
     },
     "metadata": {},
     "output_type": "display_data"
    },
    {
     "name": "stdout",
     "output_type": "stream",
     "text": [
      "Autosave disabled\n"
     ]
    }
   ],
   "source": [
    "%autosave 0"
   ]
  },
  {
   "cell_type": "markdown",
   "metadata": {},
   "source": [
    "# DICTIONARY OPERATIONS\n",
    "Dictionaries store data in Python as Key-Value pairs.\n",
    "They serve as a good basis for JSON based files later."
   ]
  },
  {
   "cell_type": "markdown",
   "metadata": {},
   "source": [
    "## CREATING A DICTIONARY\n",
    "Dictionaries are created with curly brackets."
   ]
  },
  {
   "cell_type": "code",
   "execution_count": 6,
   "metadata": {},
   "outputs": [
    {
     "name": "stdout",
     "output_type": "stream",
     "text": [
      "{}\n"
     ]
    }
   ],
   "source": [
    "# a blank dictionary:\n",
    "cities_pops1 = {} \n",
    "print(cities_pops1)"
   ]
  },
  {
   "cell_type": "markdown",
   "metadata": {},
   "source": [
    "## WORKING WITH DICTIONARY VALUES"
   ]
  },
  {
   "cell_type": "code",
   "execution_count": 24,
   "metadata": {},
   "outputs": [
    {
     "data": {
      "text/plain": [
       "{'New York City': 8100900,\n",
       " 'Atlanta': 4123092,\n",
       " 'Chicago': 6902352,\n",
       " 'Tucson': 725000}"
      ]
     },
     "execution_count": 24,
     "metadata": {},
     "output_type": "execute_result"
    }
   ],
   "source": [
    "# A PRE-FILLED DICTIONARY\n",
    "# key-value pairs are in the form of \"key\":value\n",
    "# these pairs are in the form with key as String and value as ints -- these\n",
    "cities_pops2 = {\"New York City\":8100900, \"Atlanta\":4123092, \"Chicago\":6902352, \"Tucson\":725000}\n",
    "cities_pops2"
   ]
  },
  {
   "cell_type": "code",
   "execution_count": 25,
   "metadata": {},
   "outputs": [
    {
     "name": "stdout",
     "output_type": "stream",
     "text": [
      "<class 'int'>\n",
      "dict_keys(['New York City', 'Atlanta', 'Chicago', 'Tucson'])\n",
      "dict_values([8100900, 4123092, 6902352, 725000])\n"
     ]
    }
   ],
   "source": [
    "print(type(cities_pops2[\"Atlanta\"])) # get the type of the value\n",
    "print(cities_pops2.keys()) # provide list of keys\n",
    "print(cities_pops2.values()) # provide list of values"
   ]
  },
  {
   "cell_type": "code",
   "execution_count": 26,
   "metadata": {},
   "outputs": [
    {
     "name": "stdout",
     "output_type": "stream",
     "text": [
      "<class 'int'>\n"
     ]
    }
   ],
   "source": [
    "# A DICTIONARY WITH INTEGERS AS BOTH KEY AND VALUE\n",
    "month_count = {1:100, 2:200, 3:300, 4:400}\n",
    "print(type(month_count[1]))"
   ]
  },
  {
   "cell_type": "code",
   "execution_count": 27,
   "metadata": {},
   "outputs": [
    {
     "data": {
      "text/plain": [
       "dict_keys([1, 2, 3, 4])"
      ]
     },
     "execution_count": 27,
     "metadata": {},
     "output_type": "execute_result"
    }
   ],
   "source": [
    "month_count.keys()"
   ]
  },
  {
   "cell_type": "code",
   "execution_count": 37,
   "metadata": {},
   "outputs": [
    {
     "name": "stdout",
     "output_type": "stream",
     "text": [
      "5\n"
     ]
    }
   ],
   "source": [
    "# GET THE LENGTH OF DICTIONARY\n",
    "dict_length = len(cities_pops2)\n",
    "print(dict_length)"
   ]
  },
  {
   "cell_type": "code",
   "execution_count": 38,
   "metadata": {},
   "outputs": [
    {
     "data": {
      "text/plain": [
       "6902352"
      ]
     },
     "execution_count": 38,
     "metadata": {},
     "output_type": "execute_result"
    }
   ],
   "source": [
    "# GET THE VALUE OF A SPECIFIC KEY\n",
    "cities_pops2['Chicago']"
   ]
  },
  {
   "cell_type": "markdown",
   "metadata": {},
   "source": [
    "## DICTIONARY ADD-EDIT-DELETE"
   ]
  },
  {
   "cell_type": "code",
   "execution_count": 28,
   "metadata": {},
   "outputs": [
    {
     "data": {
      "text/plain": [
       "{'New York City': 8100900,\n",
       " 'Atlanta': 4123092,\n",
       " 'Chicago': 6902352,\n",
       " 'Tucson': 725000,\n",
       " 'MIAMI': 6198102}"
      ]
     },
     "execution_count": 28,
     "metadata": {},
     "output_type": "execute_result"
    }
   ],
   "source": [
    "# ADD A VALUE TO A DICTIONARY\n",
    "cities_pops2[\"MIAMI\"] = 6198102 # adding a new key-value pair\n",
    "cities_pops2"
   ]
  },
  {
   "cell_type": "code",
   "execution_count": 29,
   "metadata": {},
   "outputs": [
    {
     "data": {
      "text/plain": [
       "{'New York City': 8100900,\n",
       " 'Atlanta': 4123092,\n",
       " 'Chicago': 6902352,\n",
       " 'Tucson': 725000}"
      ]
     },
     "execution_count": 29,
     "metadata": {},
     "output_type": "execute_result"
    }
   ],
   "source": [
    "# but wait, we don't want the new city in caps... it cannot be changed, it must be deleted\n",
    "# DELETE A VALUE FROM A DICTIONARY\n",
    "cities_pops2.pop('MIAMI')\n",
    "cities_pops2"
   ]
  },
  {
   "cell_type": "code",
   "execution_count": 31,
   "metadata": {},
   "outputs": [
    {
     "data": {
      "text/plain": [
       "{'New York City': 8100900,\n",
       " 'Atlanta': 4123092,\n",
       " 'Chicago': 6902352,\n",
       " 'Tucson': 725000,\n",
       " 'Miami': 6198102}"
      ]
     },
     "execution_count": 31,
     "metadata": {},
     "output_type": "execute_result"
    }
   ],
   "source": [
    "# lets re-add it with proper capitalization:\n",
    "cities_pops2['Miami'] = 6198102\n",
    "cities_pops2"
   ]
  },
  {
   "cell_type": "code",
   "execution_count": 34,
   "metadata": {},
   "outputs": [
    {
     "data": {
      "text/plain": [
       "{'New York City': 8100900,\n",
       " 'Atlanta': 4123092,\n",
       " 'Chicago': 6902352,\n",
       " 'Tucson': 825999,\n",
       " 'Miami': 6198102}"
      ]
     },
     "execution_count": 34,
     "metadata": {},
     "output_type": "execute_result"
    }
   ],
   "source": [
    "# EDIT the value of a Key-Value Pair\n",
    "cities_pops2['Tucson'] = 825999\n",
    "cities_pops2"
   ]
  },
  {
   "cell_type": "markdown",
   "metadata": {},
   "source": [
    "## LOOPING THROUGH A DICTIONARY\n",
    "Let's say we want to add up all the populations:"
   ]
  },
  {
   "cell_type": "code",
   "execution_count": 41,
   "metadata": {},
   "outputs": [
    {
     "name": "stdout",
     "output_type": "stream",
     "text": [
      "8100900\n",
      "12223992\n",
      "19126344\n",
      "19952343\n",
      "26150445\n"
     ]
    }
   ],
   "source": [
    "total_pop = 0  # we create a counter for the total population\n",
    "for key in cities_pops2: # loop will run for EACH KEY in the dictionary, it knows how via python magic\n",
    "    temp_value = cities_pops2[key] # this line gets the value for the current key:  some_number = cities_pops2[some city name]\n",
    "    total_pop += temp_value # this line adds the current value to the counter\n",
    "    print(total_pop) # this prints the total for each run of the loop, the last line is the total\n",
    "    "
   ]
  },
  {
   "cell_type": "code",
   "execution_count": 42,
   "metadata": {},
   "outputs": [
    {
     "name": "stdout",
     "output_type": "stream",
     "text": [
      "8100900\n",
      "12223992\n",
      "19126344\n",
      "19952343\n",
      "26150445\n"
     ]
    }
   ],
   "source": [
    "total_pop = 0  # a slightly cleaner way\n",
    "for key in cities_pops2: \n",
    "    total_pop += cities_pops2[key] \n",
    "    print(total_pop)"
   ]
  },
  {
   "cell_type": "markdown",
   "metadata": {},
   "source": [
    "Now lets put all the cities into a list:"
   ]
  },
  {
   "cell_type": "code",
   "execution_count": 57,
   "metadata": {},
   "outputs": [
    {
     "name": "stdout",
     "output_type": "stream",
     "text": [
      "['New York City', 'Atlanta', 'Chicago', 'Tucson', 'Miami']\n"
     ]
    }
   ],
   "source": [
    "cities_list = [] # create a blank list\n",
    "for key, value in cities_pops2.items(): # create a for loop using the ITEMS method which will provide the BOTH the KEY and VALUE\n",
    "     cities_list.append(key)\n",
    "print(cities_list)\n",
    "    #print(city_name)"
   ]
  },
  {
   "cell_type": "code",
   "execution_count": null,
   "metadata": {},
   "outputs": [],
   "source": []
  }
 ],
 "metadata": {
  "kernelspec": {
   "display_name": "Python 3",
   "language": "python",
   "name": "python3"
  },
  "language_info": {
   "codemirror_mode": {
    "name": "ipython",
    "version": 3
   },
   "file_extension": ".py",
   "mimetype": "text/x-python",
   "name": "python",
   "nbconvert_exporter": "python",
   "pygments_lexer": "ipython3",
   "version": "3.7.0"
  }
 },
 "nbformat": 4,
 "nbformat_minor": 2
}
