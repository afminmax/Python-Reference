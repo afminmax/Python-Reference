{
 "cells": [
  {
   "cell_type": "code",
   "execution_count": 1,
   "metadata": {},
   "outputs": [],
   "source": [
    "sciences = ['physics', 'chemistry', 'mathematics','computer science', 'chemistry', 'geology']"
   ]
  },
  {
   "cell_type": "code",
   "execution_count": 4,
   "metadata": {},
   "outputs": [
    {
     "name": "stdout",
     "output_type": "stream",
     "text": [
      "['physics', 'chemistry', 'mathematics', 'computer science', 'chemistry', 'geology']\n"
     ]
    }
   ],
   "source": [
    "print(sciences) # print the list"
   ]
  },
  {
   "cell_type": "code",
   "execution_count": 5,
   "metadata": {},
   "outputs": [
    {
     "name": "stdout",
     "output_type": "stream",
     "text": [
      "mathematics\n"
     ]
    }
   ],
   "source": [
    "print(sciences[2]) # print the value at position 2"
   ]
  },
  {
   "cell_type": "code",
   "execution_count": 7,
   "metadata": {},
   "outputs": [
    {
     "name": "stdout",
     "output_type": "stream",
     "text": [
      "['mathematics', 'computer science']\n"
     ]
    }
   ],
   "source": [
    "print(sciences[2:4]) # print the values at the 2nd and 3rd position"
   ]
  },
  {
   "cell_type": "code",
   "execution_count": 8,
   "metadata": {},
   "outputs": [],
   "source": [
    "# append() - adds an element at the end of the list\n",
    "sciences.append('astronomy') # add another value to the list"
   ]
  },
  {
   "cell_type": "code",
   "execution_count": 9,
   "metadata": {},
   "outputs": [
    {
     "name": "stdout",
     "output_type": "stream",
     "text": [
      "['physics', 'chemistry', 'mathematics', 'computer science', 'chemistry', 'geology', 'astronomy']\n"
     ]
    }
   ],
   "source": [
    "print(sciences)"
   ]
  },
  {
   "cell_type": "code",
   "execution_count": 11,
   "metadata": {},
   "outputs": [
    {
     "name": "stdout",
     "output_type": "stream",
     "text": [
      "[]\n"
     ]
    }
   ],
   "source": [
    "# clear() - removes all of the elements from the list\n",
    "sciences.clear()\n",
    "print(sciences) # an empty list object is exported"
   ]
  },
  {
   "cell_type": "code",
   "execution_count": 12,
   "metadata": {},
   "outputs": [],
   "source": [
    "sciences = ['physics', 'chemistry', 'mathematics','computer science', 'chemistry', 'geology']"
   ]
  },
  {
   "cell_type": "code",
   "execution_count": 13,
   "metadata": {},
   "outputs": [
    {
     "name": "stdout",
     "output_type": "stream",
     "text": [
      "['physics', 'chemistry', 'mathematics', 'computer science', 'chemistry', 'geology']\n"
     ]
    }
   ],
   "source": [
    "# copy() - copy the elements of a list\n",
    "only_what_matters = sciences.copy()\n",
    "print(only_what_matters)"
   ]
  },
  {
   "cell_type": "code",
   "execution_count": 18,
   "metadata": {},
   "outputs": [
    {
     "name": "stdout",
     "output_type": "stream",
     "text": [
      "1\n"
     ]
    }
   ],
   "source": [
    "# count() - Returns the number of elements with the specified value\n",
    "print(sciences.count('physics')) # counts the number of times 'physics' appears"
   ]
  },
  {
   "cell_type": "code",
   "execution_count": 20,
   "metadata": {},
   "outputs": [
    {
     "name": "stdout",
     "output_type": "stream",
     "text": [
      "3\n"
     ]
    }
   ],
   "source": [
    "sciences.append('physics')\n",
    "print(sciences.count('physics')) # counts the number of times 'physics' appears"
   ]
  },
  {
   "cell_type": "code",
   "execution_count": 21,
   "metadata": {},
   "outputs": [
    {
     "name": "stdout",
     "output_type": "stream",
     "text": [
      "['physics', 'chemistry', 'mathematics', 'computer science', 'chemistry', 'geology', 'physics', 'physics']\n"
     ]
    }
   ],
   "source": [
    "print(sciences)"
   ]
  },
  {
   "cell_type": "code",
   "execution_count": 22,
   "metadata": {},
   "outputs": [],
   "source": [
    "humanities = ['art', 'dance', 'music', 'language']"
   ]
  },
  {
   "cell_type": "code",
   "execution_count": 29,
   "metadata": {},
   "outputs": [
    {
     "name": "stdout",
     "output_type": "stream",
     "text": [
      "['physics', 'chemistry', 'mathematics', 'computer science', 'chemistry', 'geology', 'physics', 'physics', 'art', 'dance', 'music', 'language', 'art', 'dance', 'music', 'language', 'art', 'dance', 'music', 'language', 'art', 'dance', 'music', 'language']\n"
     ]
    }
   ],
   "source": [
    "# extend() - adds the members of another list to an existing list\n",
    "sciences.extend(humanities)\n",
    "print(sciences)"
   ]
  },
  {
   "cell_type": "code",
   "execution_count": 31,
   "metadata": {},
   "outputs": [
    {
     "data": {
      "text/plain": [
       "8"
      ]
     },
     "execution_count": 31,
     "metadata": {},
     "output_type": "execute_result"
    }
   ],
   "source": [
    "# index() - returns the index of the first element with the specified value\n",
    "sciences.index('art')"
   ]
  },
  {
   "cell_type": "code",
   "execution_count": 34,
   "metadata": {},
   "outputs": [
    {
     "name": "stdout",
     "output_type": "stream",
     "text": [
      "phys-ed\n",
      "['physics', 'chemistry', 'mathematics', 'computer science', 'chemistry', 'geology', 'physics', 'physics', 'phys-ed', 'phys-ed', 'phys-ed', 'art', 'dance', 'music', 'language', 'art', 'dance', 'music', 'language', 'art', 'dance', 'music', 'language', 'art', 'dance', 'music', 'language']\n"
     ]
    }
   ],
   "source": [
    "# insert() - adds an element at the specified position - 2 arguments, position and the element\n",
    "sciences.insert(8,'phys-ed')\n",
    "print(sciences[8])\n",
    "print(sciences)"
   ]
  },
  {
   "cell_type": "code",
   "execution_count": 35,
   "metadata": {},
   "outputs": [
    {
     "name": "stdout",
     "output_type": "stream",
     "text": [
      "chemistry\n"
     ]
    }
   ],
   "source": [
    "# pop() - removes an element at the specified position - 2 arguments, position and the element\n",
    "print(sciences[4])"
   ]
  },
  {
   "cell_type": "code",
   "execution_count": 37,
   "metadata": {},
   "outputs": [
    {
     "name": "stdout",
     "output_type": "stream",
     "text": [
      "['physics', 'chemistry', 'mathematics', 'computer science', 'physics', 'physics', 'phys-ed', 'phys-ed', 'phys-ed', 'art', 'dance', 'music', 'language', 'art', 'dance', 'music', 'language', 'art', 'dance', 'music', 'language', 'art', 'dance', 'music', 'language']\n"
     ]
    }
   ],
   "source": [
    "sciences.pop(4)\n",
    "print(sciences) # chemistry is now gone from the 4th position"
   ]
  },
  {
   "cell_type": "code",
   "execution_count": 38,
   "metadata": {},
   "outputs": [
    {
     "name": "stdout",
     "output_type": "stream",
     "text": [
      "['physics', 'chemistry', 'mathematics', 'computer science', 'physics', 'physics', 'phys-ed', 'phys-ed', 'phys-ed', 'art', 'dance', 'music', 'language', 'art', 'dance', 'music', 'language', 'art', 'dance', 'music', 'language', 'art', 'dance', 'music', 'language']\n"
     ]
    }
   ],
   "source": [
    "# if not pop position is specified, it removes the last element\n",
    "print(sciences)"
   ]
  },
  {
   "cell_type": "code",
   "execution_count": 39,
   "metadata": {},
   "outputs": [
    {
     "data": {
      "text/plain": [
       "'language'"
      ]
     },
     "execution_count": 39,
     "metadata": {},
     "output_type": "execute_result"
    }
   ],
   "source": [
    "sciences.pop()"
   ]
  },
  {
   "cell_type": "code",
   "execution_count": 40,
   "metadata": {},
   "outputs": [
    {
     "name": "stdout",
     "output_type": "stream",
     "text": [
      "['physics', 'chemistry', 'mathematics', 'computer science', 'physics', 'physics', 'phys-ed', 'phys-ed', 'phys-ed', 'art', 'dance', 'music', 'language', 'art', 'dance', 'music', 'language', 'art', 'dance', 'music', 'language', 'art', 'dance', 'music']\n"
     ]
    }
   ],
   "source": [
    "print(sciences)"
   ]
  },
  {
   "cell_type": "code",
   "execution_count": null,
   "metadata": {},
   "outputs": [],
   "source": []
  },
  {
   "cell_type": "code",
   "execution_count": 43,
   "metadata": {},
   "outputs": [
    {
     "name": "stdout",
     "output_type": "stream",
     "text": [
      "['music', 'dance', 'art', 'language', 'music', 'dance', 'art', 'language', 'music', 'dance', 'art', 'language', 'music', 'dance', 'phys-ed', 'phys-ed', 'phys-ed', 'physics', 'physics', 'computer science', 'mathematics', 'chemistry', 'physics']\n"
     ]
    }
   ],
   "source": [
    "# reverse() - reverses the order of a list\n",
    "sciences.reverse()\n",
    "print(sciences)"
   ]
  },
  {
   "cell_type": "code",
   "execution_count": 44,
   "metadata": {},
   "outputs": [
    {
     "name": "stdout",
     "output_type": "stream",
     "text": [
      "['art', 'art', 'art', 'chemistry', 'computer science', 'dance', 'dance', 'dance', 'dance', 'language', 'language', 'language', 'mathematics', 'music', 'music', 'music', 'music', 'phys-ed', 'phys-ed', 'phys-ed', 'physics', 'physics', 'physics']\n"
     ]
    }
   ],
   "source": [
    "# sort() - sorts the list alphabetically\n",
    "sciences.sort()\n",
    "print(sciences)"
   ]
  },
  {
   "cell_type": "code",
   "execution_count": 45,
   "metadata": {},
   "outputs": [
    {
     "name": "stdout",
     "output_type": "stream",
     "text": [
      "['physics', 'physics', 'physics', 'phys-ed', 'phys-ed', 'phys-ed', 'music', 'music', 'music', 'music', 'mathematics', 'language', 'language', 'language', 'dance', 'dance', 'dance', 'dance', 'computer science', 'chemistry', 'art', 'art', 'art']\n"
     ]
    }
   ],
   "source": [
    "# to get reverse alphabetical, simply do a sort, then a reverse\n",
    "sciences.reverse()\n",
    "print(sciences)"
   ]
  },
  {
   "cell_type": "code",
   "execution_count": null,
   "metadata": {},
   "outputs": [],
   "source": []
  }
 ],
 "metadata": {
  "kernelspec": {
   "display_name": "Python 3",
   "language": "python",
   "name": "python3"
  },
  "language_info": {
   "codemirror_mode": {
    "name": "ipython",
    "version": 3
   },
   "file_extension": ".py",
   "mimetype": "text/x-python",
   "name": "python",
   "nbconvert_exporter": "python",
   "pygments_lexer": "ipython3",
   "version": "3.6.5"
  }
 },
 "nbformat": 4,
 "nbformat_minor": 2
}
