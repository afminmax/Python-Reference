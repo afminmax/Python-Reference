{
 "cells": [
  {
   "cell_type": "markdown",
   "metadata": {},
   "source": [
    "## Letter Case in Strings"
   ]
  },
  {
   "cell_type": "code",
   "execution_count": 19,
   "metadata": {},
   "outputs": [
    {
     "name": "stdout",
     "output_type": "stream",
     "text": [
      "Star wars movies\n"
     ]
    }
   ],
   "source": [
    "# capitalize() - Converts the first character to upper case\n",
    "str1 = 'star wars movies'\n",
    "str1a = str1.capitalize()\n",
    "print(str1a)"
   ]
  },
  {
   "cell_type": "code",
   "execution_count": 20,
   "metadata": {},
   "outputs": [
    {
     "name": "stdout",
     "output_type": "stream",
     "text": [
      "the empire strikes back\n"
     ]
    }
   ],
   "source": [
    "# casefold() - Converts the entire string into lower case\n",
    "str2 = 'THE EMPIRE STRIKES BACK'\n",
    "str2a = str2.casefold()\n",
    "print(str2a)"
   ]
  },
  {
   "cell_type": "code",
   "execution_count": 21,
   "metadata": {},
   "outputs": [
    {
     "name": "stdout",
     "output_type": "stream",
     "text": [
      "return of the jedi\n"
     ]
    }
   ],
   "source": [
    "# lower() - Coverts the entire string into lower case\n",
    "str3 = 'RETURN OF THE JEDI'\n",
    "str3a = str3.lower()\n",
    "print(str3a)"
   ]
  },
  {
   "cell_type": "code",
   "execution_count": 22,
   "metadata": {},
   "outputs": [
    {
     "name": "stdout",
     "output_type": "stream",
     "text": [
      "A NEW HOPE\n"
     ]
    }
   ],
   "source": [
    "# upper() - Converts the entire string into upper case\n",
    "str4 = 'A New Hope'\n",
    "str4a = str4.upper()\n",
    "print(str4a)"
   ]
  },
  {
   "cell_type": "code",
   "execution_count": 23,
   "metadata": {},
   "outputs": [
    {
     "name": "stdout",
     "output_type": "stream",
     "text": [
      "tHe PhAnToM mEnAcE\n"
     ]
    }
   ],
   "source": [
    "# swapcase() - Swaps cases, lower case becomes upper case and vice versa\n",
    "str5 = 'ThE pHaNtOm MeNaCe'\n",
    "str5a = str5.swapcase()\n",
    "print(str5a)"
   ]
  },
  {
   "cell_type": "code",
   "execution_count": 24,
   "metadata": {},
   "outputs": [
    {
     "name": "stdout",
     "output_type": "stream",
     "text": [
      "Attack Of The Clones\n"
     ]
    }
   ],
   "source": [
    "# title() - Converts the first character of each word to upper case\n",
    "str6 = 'attack of the clones'\n",
    "str6a = str6.title()\n",
    "print(str6a)"
   ]
  },
  {
   "cell_type": "markdown",
   "metadata": {},
   "source": [
    "## Focusing down on characters"
   ]
  },
  {
   "cell_type": "code",
   "execution_count": 32,
   "metadata": {},
   "outputs": [
    {
     "name": "stdout",
     "output_type": "stream",
     "text": [
      "5\n"
     ]
    }
   ],
   "source": [
    "# count() - Returns the number of times a specified value occurs in a string - this example, a letter \"e\"\n",
    "str7 = 'The Force Awakens and The Last Jedi'\n",
    "str_count = str7.count(\"e\")\n",
    "print(str_count)"
   ]
  },
  {
   "cell_type": "code",
   "execution_count": 34,
   "metadata": {},
   "outputs": [
    {
     "name": "stdout",
     "output_type": "stream",
     "text": [
      "2\n"
     ]
    }
   ],
   "source": [
    "# count() - Returns the number of times a specified value occurs in a string - this example, a number \"7\"\n",
    "str8 = 'The Force Awakens Ep 7 and The Last Jedi Ep 6 + 1 = 7'\n",
    "str_count = str8.count(\"7\")\n",
    "print(str_count)"
   ]
  },
  {
   "cell_type": "code",
   "execution_count": 35,
   "metadata": {},
   "outputs": [
    {
     "name": "stdout",
     "output_type": "stream",
     "text": [
      "1\n"
     ]
    }
   ],
   "source": [
    "# count() - Returns the number of times a specified value occurs in a string - this example, a string \"wake\"\n",
    "str8 = 'The Force Awakens Ep 7 and The Last Jedi Ep 6 + 1 = 7'\n",
    "str_count = str8.count(\"wake\")\n",
    "print(str_count)"
   ]
  },
  {
   "cell_type": "code",
   "execution_count": 38,
   "metadata": {},
   "outputs": [
    {
     "name": "stdout",
     "output_type": "stream",
     "text": [
      "6\n"
     ]
    }
   ],
   "source": [
    "# find() - Searches the string for a specified value and returns the position of where it was found, counting starts from zero\n",
    "str9 = 'Rogue One A Star Wars Story'\n",
    "str_position = str9.find('One')\n",
    "print(str_position) # note here, the capital \"O\" starts at position six"
   ]
  },
  {
   "cell_type": "code",
   "execution_count": 39,
   "metadata": {},
   "outputs": [
    {
     "name": "stdout",
     "output_type": "stream",
     "text": [
      "1\n"
     ]
    }
   ],
   "source": [
    "# find() - Searches the string for a specified value and returns the position of where it was found, counting starts from zero\n",
    "str10 = 'Rogue One A Star Wars Story'\n",
    "str_position = str9.find('o')\n",
    "print(str_position) # note here, it finds the FIRST instance and returns it! How to count further? Later with a FOR statement."
   ]
  },
  {
   "cell_type": "code",
   "execution_count": 2,
   "metadata": {},
   "outputs": [
    {
     "name": "stdout",
     "output_type": "stream",
     "text": [
      "42\n"
     ]
    }
   ],
   "source": [
    "# len() - Gets the length of a string - this is a method - the string variable goes into the parentheses\n",
    "str10a = 'Stars Wars Legends Expanded Universe Books'\n",
    "length = len(str10a)\n",
    "print(length)"
   ]
  },
  {
   "cell_type": "code",
   "execution_count": 41,
   "metadata": {},
   "outputs": [
    {
     "name": "stdout",
     "output_type": "stream",
     "text": [
      "6\n",
      "1\n"
     ]
    }
   ],
   "source": [
    "# index() - Searches the string for a specified value and returns the position of where it was found - same as find()!\n",
    "str11 = 'Rogue One A Star Wars Story'\n",
    "str_position1 = str11.find('One')\n",
    "print(str_position1) # note here, the capital \"O\" starts at position six\n",
    "\n",
    "str12 = 'Rogue One A Star Wars Story'\n",
    "str_position2 = str12.find('o')\n",
    "print(str_position2)"
   ]
  },
  {
   "cell_type": "code",
   "execution_count": 45,
   "metadata": {},
   "outputs": [
    {
     "name": "stdout",
     "output_type": "stream",
     "text": [
      "6\n",
      "8\n"
     ]
    }
   ],
   "source": [
    "# rfind() and\n",
    "# rindex() - Searches the string for a specified value and returns the last position of where it was found\n",
    "\n",
    "str13 = 'Rogue One A Star Wars Story'\n",
    "str_position1 = str13.rfind('One')\n",
    "print(str_position1) # the last place \"one\" is found begins at position six\n",
    "\n",
    "str14 = 'Rogue One A Star Wars Story'\n",
    "str_position2 = str13.rfind('e')\n",
    "print(str_position2) # the last place \"e\" is found is at position eight\n"
   ]
  },
  {
   "cell_type": "code",
   "execution_count": 64,
   "metadata": {},
   "outputs": [
    {
     "name": "stdout",
     "output_type": "stream",
     "text": [
      "True\n",
      "True\n",
      "False\n"
     ]
    }
   ],
   "source": [
    "# endswith() - Returns true if the string ends with the specified value\n",
    "str15 = 'Solo A Star Wars Story'\n",
    "str_bool1 = str15.endswith(\"y\")\n",
    "print(str_bool1)\n",
    "\n",
    "str16 = 'Solo A Star Wars Story'\n",
    "str_bool2 = str16.endswith('Story')\n",
    "print(str_bool2) # note it takes the whole word, not just the \"y\" -  to test, replace with \"Storey\" \n",
    "\n",
    "str17 = 'Solo A Star Wars Story'\n",
    "str_bool3 = str17.endswith('Wars')\n",
    "print(str_bool3)"
   ]
  },
  {
   "cell_type": "code",
   "execution_count": 67,
   "metadata": {},
   "outputs": [
    {
     "name": "stdout",
     "output_type": "stream",
     "text": [
      "True\n",
      "False\n",
      "False\n"
     ]
    }
   ],
   "source": [
    "# startswith() - Returns true if the string starts with the specified value\n",
    "str18 = 'Solo A Star Wars Story'\n",
    "\n",
    "str_bool1 = str18.startswith('S')\n",
    "print(str_bool1)\n",
    "\n",
    "str_bool2 = str18.startswith('s')\n",
    "print(str_bool2)\n",
    "\n",
    "str_bool2 = str18.startswith(\"Solo\")\n",
    "print(str_bool3) # NOTICE - it's only evaluating the first character! a bit different than endswith()"
   ]
  },
  {
   "cell_type": "code",
   "execution_count": 5,
   "metadata": {},
   "outputs": [
    {
     "name": "stdout",
     "output_type": "stream",
     "text": [
      "ratS-htaeD\n"
     ]
    }
   ],
   "source": [
    "# reversing characters - can be done using Python slicing (via square brackets)\n",
    "\n",
    "str18a = 'Death-Star'\n",
    "str18a_rev = str18a[::-1]\n",
    "print(str18a_rev)"
   ]
  },
  {
   "cell_type": "markdown",
   "metadata": {},
   "source": [
    "## String slicing"
   ]
  },
  {
   "cell_type": "code",
   "execution_count": 8,
   "metadata": {},
   "outputs": [
    {
     "name": "stdout",
     "output_type": "stream",
     "text": [
      "-\n"
     ]
    }
   ],
   "source": [
    "# strings can be sliced like lists\n",
    "str18b = 'X-Wing Fighter'\n",
    "print(str18b[1]) # this gets the character at position 1"
   ]
  },
  {
   "cell_type": "code",
   "execution_count": null,
   "metadata": {},
   "outputs": [],
   "source": [
    "# See the specific slicing notebook for more details"
   ]
  },
  {
   "cell_type": "markdown",
   "metadata": {},
   "source": [
    "## Inquiring about the contents of a string"
   ]
  },
  {
   "cell_type": "code",
   "execution_count": 77,
   "metadata": {},
   "outputs": [
    {
     "name": "stdout",
     "output_type": "stream",
     "text": [
      "False\n",
      "True\n",
      "True\n",
      "False\n"
     ]
    }
   ],
   "source": [
    "# isalnum() - Returns True if all characters in the string are alphanumeric\n",
    "str19 = 'The Force Awakens'\n",
    "str_bool1 = str19.isalnum()\n",
    "print(str_bool1) # test 1 - will be false since there are SPACE characters\n",
    "\n",
    "str20 = 'TheForceAwakens'\n",
    "str_bool2 = str20.isalnum()\n",
    "print(str_bool2) # test 2 - will be true since there are no SPACE characters\n",
    "\n",
    "str21 = 'TheForceAwakens789'\n",
    "str_bool3 = str21.isalnum()\n",
    "print(str_bool3) # test 3 - will be true since there are no SPACE characters\n",
    "\n",
    "str22 = 'TheForceAwakens789+'\n",
    "str_bool4 = str22.isalnum()\n",
    "print(str_bool4) # test 4 - will be false since there is now a \"+\" symbol\n"
   ]
  },
  {
   "cell_type": "code",
   "execution_count": 81,
   "metadata": {},
   "outputs": [
    {
     "name": "stdout",
     "output_type": "stream",
     "text": [
      "False\n",
      "False\n",
      "True\n",
      "False\n"
     ]
    }
   ],
   "source": [
    "# isalpha() - Returns True if all characters in the string are in the alphabet\n",
    "str23 = 'TheForceAwakens789+'\n",
    "str_bool1 = str23.isalpha()\n",
    "print(str_bool4) # test 1 - will be false since there are numbers and a plus\n",
    "\n",
    "str24 = 'TheForceAwakens789'\n",
    "str_bool2 = str24.isalpha()\n",
    "print(str_bool2) # test 2 - will be false since there are numbers and a plus\n",
    "\n",
    "str24 = 'TheForceAwakens'\n",
    "str_bool3 = str24.isalpha()\n",
    "print(str_bool3) # test 3 - will be TRUE\n",
    "\n",
    "str25 = 'The Force Awakens'\n",
    "str_bool4 = str25.isalpha()\n",
    "print(str_bool4) # test 4 - will be false beacuse of the spaces between the letters"
   ]
  },
  {
   "cell_type": "code",
   "execution_count": 83,
   "metadata": {},
   "outputs": [
    {
     "name": "stdout",
     "output_type": "stream",
     "text": [
      "True\n",
      "False\n"
     ]
    }
   ],
   "source": [
    "# islower() - Returns True if all characters in the string are lower case\n",
    "str26 = 'the force awakens'\n",
    "str_bool1 = str26.islower()\n",
    "print(str_bool1) # note that it ignores spaces\n",
    "\n",
    "str27 = 'the force Awakens'\n",
    "str_bool2 = str27.islower()\n",
    "print(str_bool2) # note that it ignores spaces"
   ]
  },
  {
   "cell_type": "code",
   "execution_count": 86,
   "metadata": {},
   "outputs": [
    {
     "name": "stdout",
     "output_type": "stream",
     "text": [
      "False\n",
      "True\n"
     ]
    }
   ],
   "source": [
    "# isupper() - Returns True if all characters in the string are upper case\n",
    "str28 = 'the force awakens'\n",
    "str_bool1 = str28.isupper()\n",
    "print(str_bool1) # note that it ignores spaces\n",
    "\n",
    "str29 = 'THE FORCE AWAKENS'\n",
    "str_bool2 = str29.isupper()\n",
    "print(str_bool2) # note that it ignores spaces"
   ]
  },
  {
   "cell_type": "code",
   "execution_count": 90,
   "metadata": {},
   "outputs": [
    {
     "name": "stdout",
     "output_type": "stream",
     "text": [
      "True\n",
      "False\n"
     ]
    }
   ],
   "source": [
    "# istitle() - Returns True if the string follows the rules of a title\n",
    "str30 = 'The Force Awakens'\n",
    "str_bool1 = str30.istitle()\n",
    "print(str_bool1) # note that it ignores spaces, this in title format - first character in each letter is upper\n",
    "\n",
    "str31 = 'The Force ajwakens'\n",
    "str_bool2 = str31.istitle()\n",
    "print(str_bool2) "
   ]
  },
  {
   "cell_type": "code",
   "execution_count": 96,
   "metadata": {},
   "outputs": [
    {
     "name": "stdout",
     "output_type": "stream",
     "text": [
      "True True\n",
      "False False\n",
      "False False\n"
     ]
    }
   ],
   "source": [
    "# isdigit() \n",
    "# isnumeric() - Returns True if all characters in the string are digits\n",
    "str32 = '1234567788999004346656'\n",
    "str_bool1 = str32.isdigit()\n",
    "str_bool2 = str32.isnumeric()\n",
    "print(str_bool1,str_bool2)\n",
    "\n",
    "str33 = '1 234567788999004346656'\n",
    "str_bool3 = str33.isdigit()\n",
    "str_bool4 = str33.isnumeric()\n",
    "print(str_bool3, str_bool4) # the space is not a digit! Spaces are NOT ignored!\n",
    "\n",
    "str34 = '1a234567788999004346656'\n",
    "str_bool5 = str34.isdigit()\n",
    "str_bool6 = str34.isnumeric()\n",
    "print(str_bool5, str_bool6) # the letter \"a\" is not a digit!"
   ]
  },
  {
   "cell_type": "markdown",
   "metadata": {},
   "source": [
    "## Manipulating Strings"
   ]
  },
  {
   "cell_type": "code",
   "execution_count": 109,
   "metadata": {},
   "outputs": [
    {
     "name": "stdout",
     "output_type": "stream",
     "text": [
      "['May', 'the', 'force', 'be', 'with', 'you']\n",
      "['May', 'the', 'force', 'be', 'with', 'you']\n",
      "['Luke', 'I', 'am', 'your', 'father!']\n",
      "['Luke', 'I', 'am', 'your', 'father!']\n"
     ]
    }
   ],
   "source": [
    "# split()\n",
    "# rsplit() - Splits the string at the specified separator, and returns a list. A FORMAL LIST - in square brackets separated by commas.\n",
    "str35 = 'May,the,force,be,with,you'\n",
    "newstr1 = str35.split(\",\")\n",
    "newstr2 = str35.rsplit(',')\n",
    "print(newstr1)\n",
    "print(newstr2)\n",
    "\n",
    "str36 = 'Luke.I.am.your.father!'\n",
    "newstr3 = str36.split(\".\")\n",
    "newstr4 = str36.rsplit('.')\n",
    "print(newstr3)\n",
    "print(newstr4)"
   ]
  },
  {
   "cell_type": "code",
   "execution_count": 121,
   "metadata": {},
   "outputs": [
    {
     "name": "stdout",
     "output_type": "stream",
     "text": [
      "Luke, I, am, your, father!\n",
      "Luke- -I- -am- -your- -father!\n"
     ]
    }
   ],
   "source": [
    "# join() - Joins the elements of an iterable to the end of the string by using a separator value to 'knit' the words together\n",
    "list1 = ['Luke', 'I', 'am', 'your', 'father!']\n",
    "separator1 = ', '\n",
    "str37 = separator1.join(list1)\n",
    "print(str37) # notice the undesirable commas....\n",
    "\n",
    "separator2 = '- -'\n",
    "str38 = separator2.join(list1)\n",
    "print(str38) # notice the undesirable commas are now made into something that might be useful one day in the future"
   ]
  },
  {
   "cell_type": "code",
   "execution_count": 16,
   "metadata": {},
   "outputs": [
    {
     "name": "stdout",
     "output_type": "stream",
     "text": [
      "Luke I am your father!\n"
     ]
    }
   ],
   "source": [
    "# using a space as the sepaator turns it into a string absent the commas\n",
    "list1 = ['Luke', 'I', 'am', 'your', 'father!']\n",
    "str39 = ' '.join(list1)\n",
    "print(str39) "
   ]
  },
  {
   "cell_type": "code",
   "execution_count": 14,
   "metadata": {},
   "outputs": [
    {
     "name": "stdout",
     "output_type": "stream",
     "text": [
      "['The Phantom Menace', 'Attack of the Clones', 'Revenge of the Sith']\n"
     ]
    }
   ],
   "source": [
    "# splitlines() - The method splitlines() returns a list with all the lines in a string, optionally including the line breaks (if num is supplied and is true)\n",
    "\n",
    "str40 = \"The Phantom Menace\\nAttack of the Clones\\nRevenge of the Sith\"\n",
    "list4 = str40.splitlines()\n",
    "print(list4)"
   ]
  },
  {
   "cell_type": "code",
   "execution_count": 12,
   "metadata": {},
   "outputs": [
    {
     "data": {
      "text/plain": [
       "True"
      ]
     },
     "execution_count": 12,
     "metadata": {},
     "output_type": "execute_result"
    }
   ],
   "source": [
    "# the in method returns a boolean for the presence of a value\n",
    "'am' in list3"
   ]
  },
  {
   "cell_type": "code",
   "execution_count": null,
   "metadata": {},
   "outputs": [],
   "source": []
  }
 ],
 "metadata": {
  "kernelspec": {
   "display_name": "Python 3",
   "language": "python",
   "name": "python3"
  },
  "language_info": {
   "codemirror_mode": {
    "name": "ipython",
    "version": 3
   },
   "file_extension": ".py",
   "mimetype": "text/x-python",
   "name": "python",
   "nbconvert_exporter": "python",
   "pygments_lexer": "ipython3",
   "version": "3.6.5"
  }
 },
 "nbformat": 4,
 "nbformat_minor": 2
}
