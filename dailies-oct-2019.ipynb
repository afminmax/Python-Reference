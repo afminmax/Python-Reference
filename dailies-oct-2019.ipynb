{
 "cells": [
  {
   "cell_type": "code",
   "execution_count": 20,
   "metadata": {},
   "outputs": [],
   "source": [
    "## dictionaries\n",
    "\n",
    "toons = {'aylie':'mesmer','ellie':'mesmer','linha':'revenant','maquina':'engineer'}\n",
    "\n",
    "## methods"
   ]
  },
  {
   "cell_type": "code",
   "execution_count": 5,
   "metadata": {},
   "outputs": [
    {
     "data": {
      "text/plain": [
       "{'aylie': 'mesmer',\n",
       " 'ellie': 'mesmer',\n",
       " 'linha': 'revenant',\n",
       " 'maquina': 'engineer'}"
      ]
     },
     "execution_count": 5,
     "metadata": {},
     "output_type": "execute_result"
    }
   ],
   "source": [
    "# copy a dictionary\n",
    "toons2 = toons.copy()\n",
    "toons2"
   ]
  },
  {
   "cell_type": "code",
   "execution_count": 7,
   "metadata": {},
   "outputs": [],
   "source": [
    "# clear elements from a dictionary\n",
    "toons2 = toons.clear()\n",
    "toons2 \n",
    "# note - no more output on execution"
   ]
  },
  {
   "cell_type": "code",
   "execution_count": 21,
   "metadata": {},
   "outputs": [
    {
     "data": {
      "text/plain": [
       "{'aylie': 'mesmer',\n",
       " 'ellie': 'mesmer',\n",
       " 'linha': 'revenant',\n",
       " 'maquina': 'engineer'}"
      ]
     },
     "execution_count": 21,
     "metadata": {},
     "output_type": "execute_result"
    }
   ],
   "source": [
    "toons"
   ]
  },
  {
   "cell_type": "code",
   "execution_count": 23,
   "metadata": {},
   "outputs": [
    {
     "data": {
      "text/plain": [
       "'mesmer'"
      ]
     },
     "execution_count": 23,
     "metadata": {},
     "output_type": "execute_result"
    }
   ],
   "source": [
    "# getting items\n",
    "x = toons[\"ellie\"]\n",
    "x"
   ]
  },
  {
   "cell_type": "code",
   "execution_count": 24,
   "metadata": {},
   "outputs": [
    {
     "data": {
      "text/plain": [
       "'mesmer'"
      ]
     },
     "execution_count": 24,
     "metadata": {},
     "output_type": "execute_result"
    }
   ],
   "source": [
    "toons[\"ellie\"]"
   ]
  },
  {
   "cell_type": "code",
   "execution_count": 25,
   "metadata": {},
   "outputs": [
    {
     "data": {
      "text/plain": [
       "'mesmer'"
      ]
     },
     "execution_count": 25,
     "metadata": {},
     "output_type": "execute_result"
    }
   ],
   "source": [
    "toons.get(\"ellie\")"
   ]
  },
  {
   "cell_type": "code",
   "execution_count": 27,
   "metadata": {},
   "outputs": [
    {
     "data": {
      "text/plain": [
       "4"
      ]
     },
     "execution_count": 27,
     "metadata": {},
     "output_type": "execute_result"
    }
   ],
   "source": [
    "# get dictionary length\n",
    "len(toons)"
   ]
  },
  {
   "cell_type": "code",
   "execution_count": 38,
   "metadata": {},
   "outputs": [
    {
     "name": "stdout",
     "output_type": "stream",
     "text": [
      "aylie\n",
      "ellie\n",
      "linha\n",
      "maquina\n"
     ]
    }
   ],
   "source": [
    "# loop through keys in dictionary\n",
    "\n",
    "for key in toons.keys():\n",
    "    print(key)"
   ]
  },
  {
   "cell_type": "code",
   "execution_count": 36,
   "metadata": {},
   "outputs": [
    {
     "name": "stdout",
     "output_type": "stream",
     "text": [
      "mesmer\n",
      "mesmer\n",
      "revenant\n",
      "engineer\n"
     ]
    }
   ],
   "source": [
    "# loop through values in dictionary\n",
    "\n",
    "for value in toons.values():\n",
    "    print(value)"
   ]
  },
  {
   "cell_type": "code",
   "execution_count": 41,
   "metadata": {},
   "outputs": [
    {
     "name": "stdout",
     "output_type": "stream",
     "text": [
      "aylie mesmer\n",
      "ellie mesmer\n",
      "linha revenant\n",
      "maquina engineer\n"
     ]
    }
   ],
   "source": [
    "# loop through keys and values in dictionary\n",
    "\n",
    "for keys,values in toons.items():\n",
    "    print(keys,values)"
   ]
  },
  {
   "cell_type": "code",
   "execution_count": 42,
   "metadata": {},
   "outputs": [],
   "source": [
    "# change a value\n",
    "\n",
    "toons[\"maquina\"] = 'warrior'"
   ]
  },
  {
   "cell_type": "code",
   "execution_count": 43,
   "metadata": {},
   "outputs": [
    {
     "data": {
      "text/plain": [
       "{'aylie': 'mesmer',\n",
       " 'ellie': 'mesmer',\n",
       " 'linha': 'revenant',\n",
       " 'maquina': 'warrior'}"
      ]
     },
     "execution_count": 43,
     "metadata": {},
     "output_type": "execute_result"
    }
   ],
   "source": [
    "toons"
   ]
  },
  {
   "cell_type": "code",
   "execution_count": 44,
   "metadata": {},
   "outputs": [
    {
     "name": "stdout",
     "output_type": "stream",
     "text": [
      "True\n"
     ]
    }
   ],
   "source": [
    "# check if a key exists\n",
    "\n",
    "if \"ellie\" in toons:\n",
    "    print('True')"
   ]
  },
  {
   "cell_type": "code",
   "execution_count": 48,
   "metadata": {},
   "outputs": [
    {
     "data": {
      "text/plain": [
       "{'aylie': 'mesmer',\n",
       " 'ellie': 'mesmer',\n",
       " 'linha': 'revenant',\n",
       " 'maquina': 'warrior',\n",
       " 'nika': 'thief',\n",
       " 'karoilia': 'ranger'}"
      ]
     },
     "execution_count": 48,
     "metadata": {},
     "output_type": "execute_result"
    }
   ],
   "source": [
    "# adding an item\n",
    "\n",
    "toons[\"nika\"] = 'thief'\n",
    "toons[\"karoilia\"] ='ranger'\n",
    "toons"
   ]
  },
  {
   "cell_type": "code",
   "execution_count": 50,
   "metadata": {},
   "outputs": [
    {
     "data": {
      "text/plain": [
       "'ranger'"
      ]
     },
     "execution_count": 50,
     "metadata": {},
     "output_type": "execute_result"
    }
   ],
   "source": [
    "# removing an item\n",
    "toons.pop(\"karoilia\")"
   ]
  },
  {
   "cell_type": "code",
   "execution_count": 51,
   "metadata": {},
   "outputs": [
    {
     "data": {
      "text/plain": [
       "{'aylie': 'mesmer',\n",
       " 'ellie': 'mesmer',\n",
       " 'linha': 'revenant',\n",
       " 'maquina': 'warrior',\n",
       " 'nika': 'thief'}"
      ]
     },
     "execution_count": 51,
     "metadata": {},
     "output_type": "execute_result"
    }
   ],
   "source": [
    "toons"
   ]
  },
  {
   "cell_type": "code",
   "execution_count": null,
   "metadata": {},
   "outputs": [],
   "source": []
  }
 ],
 "metadata": {
  "kernelspec": {
   "display_name": "Python 3",
   "language": "python",
   "name": "python3"
  },
  "language_info": {
   "codemirror_mode": {
    "name": "ipython",
    "version": 3
   },
   "file_extension": ".py",
   "mimetype": "text/x-python",
   "name": "python",
   "nbconvert_exporter": "python",
   "pygments_lexer": "ipython3",
   "version": "3.7.4"
  }
 },
 "nbformat": 4,
 "nbformat_minor": 4
}
